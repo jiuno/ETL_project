{
 "cells": [
  {
   "cell_type": "code",
   "execution_count": 2,
   "id": "9158b398",
   "metadata": {},
   "outputs": [],
   "source": [
    "import pandas as pd"
   ]
  },
  {
   "cell_type": "code",
   "execution_count": 5,
   "id": "7f290a06",
   "metadata": {},
   "outputs": [
    {
     "name": "stdout",
     "output_type": "stream",
     "text": [
      "                 CID       BDATE     GEN\n",
      "0      NASAW00011000  1971-10-06    Male\n",
      "1      NASAW00011001  1976-05-10    Male\n",
      "2      NASAW00011002  1971-02-09    Male\n",
      "3      NASAW00011003  1973-08-14  Female\n",
      "4      NASAW00011004  1979-08-05  Female\n",
      "...              ...         ...     ...\n",
      "18479     AW00029479  1969-06-30     NaN\n",
      "18480     AW00029480  1977-05-06     NaN\n",
      "18481     AW00029481  1965-07-04     NaN\n",
      "18482     AW00029482  1964-09-01     NaN\n",
      "18483     AW00029483  1965-06-06     NaN\n",
      "\n",
      "[18484 rows x 3 columns]\n",
      "--------------------------------------------------------------------------------\n",
      "               CID       BDATE    GEN\n",
      "count        18484       18484  17012\n",
      "unique       18484        6152      8\n",
      "top     AW00029483  1980-10-14   Male\n",
      "freq             1          18   8608\n"
     ]
    }
   ],
   "source": [
    "path_cust = \"../sources/erp/CUST_AZ12.csv\"\n",
    "\n",
    "df = pd.read_csv(path_cust)\n",
    "\n",
    "print(df)\n",
    "print(\"--------------------------------------------------------------------------------\")\n",
    "print(df.describe())\n",
    "\n"
   ]
  },
  {
   "cell_type": "code",
   "execution_count": null,
   "id": "2fb6cc49",
   "metadata": {},
   "outputs": [],
   "source": []
  },
  {
   "cell_type": "code",
   "execution_count": 6,
   "id": "e65253ef",
   "metadata": {},
   "outputs": [
    {
     "name": "stdout",
     "output_type": "stream",
     "text": [
      "               CID           CNTRY\n",
      "0      AW-00011000       Australia\n",
      "1      AW-00011001       Australia\n",
      "2      AW-00011002       Australia\n",
      "3      AW-00011003       Australia\n",
      "4      AW-00011004       Australia\n",
      "...            ...             ...\n",
      "18479  AW-00029479          France\n",
      "18480  AW-00029480  United Kingdom\n",
      "18481  AW-00029481         Germany\n",
      "18482  AW-00029482          France\n",
      "18483  AW-00029483          France\n",
      "\n",
      "[18484 rows x 2 columns]\n",
      "--------------------------------------------------------------------------------\n",
      "                CID      CNTRY\n",
      "count         18484      18152\n",
      "unique        18484         12\n",
      "top     AW-00029483  Australia\n",
      "freq              1       3591\n"
     ]
    }
   ],
   "source": [
    "path_locs = \"../sources/erp/LOC_A101.csv\"\n",
    "\n",
    "df = pd.read_csv(path_locs)\n",
    "\n",
    "print(df)\n",
    "print(\"--------------------------------------------------------------------------------\")\n",
    "print(df.describe())\n",
    "\n"
   ]
  },
  {
   "cell_type": "code",
   "execution_count": 9,
   "id": "bc9ff9e9",
   "metadata": {},
   "outputs": [
    {
     "name": "stdout",
     "output_type": "stream",
     "text": [
      "       ID          CAT             SUBCAT MAINTENANCE\n",
      "0   AC_BR  Accessories         Bike Racks         Yes\n",
      "1   AC_BS  Accessories        Bike Stands          No\n",
      "2   AC_BC  Accessories  Bottles and Cages          No\n",
      "3   AC_CL  Accessories           Cleaners         Yes\n",
      "4   AC_FE  Accessories            Fenders          No\n",
      "5   AC_HE  Accessories            Helmets         Yes\n",
      "6   AC_HP  Accessories    Hydration Packs          No\n",
      "7   AC_LI  Accessories             Lights         Yes\n",
      "8   AC_LO  Accessories              Locks         Yes\n",
      "9   AC_PA  Accessories           Panniers          No\n",
      "10  AC_PU  Accessories              Pumps         Yes\n",
      "11  AC_TT  Accessories    Tires and Tubes         Yes\n",
      "12  BI_MB        Bikes     Mountain Bikes         Yes\n",
      "13  BI_RB        Bikes         Road Bikes         Yes\n",
      "14  BI_TB        Bikes      Touring Bikes         Yes\n",
      "15  CL_BS     Clothing         Bib-Shorts          No\n",
      "16  CL_CA     Clothing               Caps          No\n",
      "17  CL_GL     Clothing             Gloves          No\n",
      "18  CL_JE     Clothing            Jerseys          No\n",
      "19  CL_SH     Clothing             Shorts          No\n",
      "20  CL_SO     Clothing              Socks          No\n",
      "21  CL_TI     Clothing             Tights          No\n",
      "22  CL_VE     Clothing              Vests          No\n",
      "23  CO_BB   Components    Bottom Brackets         Yes\n",
      "24  CO_BR   Components             Brakes         Yes\n",
      "25  CO_CH   Components             Chains         Yes\n",
      "26  CO_CS   Components          Cranksets         Yes\n",
      "27  CO_DE   Components        Derailleurs         Yes\n",
      "28  CO_FO   Components              Forks         Yes\n",
      "29  CO_HB   Components         Handlebars          No\n",
      "30  CO_HS   Components           Headsets          No\n",
      "31  CO_MF   Components    Mountain Frames         Yes\n",
      "32  CO_PD   Components             Pedals          No\n",
      "33  CO_RF   Components        Road Frames         Yes\n",
      "34  CO_SA   Components            Saddles          No\n",
      "35  CO_TF   Components     Touring Frames         Yes\n",
      "36  CO_WH   Components             Wheels         Yes\n",
      "--------------------------------------------------------------------------------\n",
      "           ID         CAT      SUBCAT MAINTENANCE\n",
      "count      37          37          37          37\n",
      "unique     37           4          37           2\n",
      "top     AC_BR  Components  Bike Racks         Yes\n",
      "freq        1          14           1          20\n"
     ]
    }
   ],
   "source": [
    "path_catg = \"../sources/erp/PX_CAT_G1V2.csv\"\n",
    "\n",
    "df = pd.read_csv(path_catg)\n",
    "\n",
    "print(df)\n",
    "print(\"--------------------------------------------------------------------------------\")\n",
    "print(df.describe())\n",
    "\n"
   ]
  }
 ],
 "metadata": {
  "kernelspec": {
   "display_name": "venv",
   "language": "python",
   "name": "python3"
  },
  "language_info": {
   "codemirror_mode": {
    "name": "ipython",
    "version": 3
   },
   "file_extension": ".py",
   "mimetype": "text/x-python",
   "name": "python",
   "nbconvert_exporter": "python",
   "pygments_lexer": "ipython3",
   "version": "3.10.12"
  }
 },
 "nbformat": 4,
 "nbformat_minor": 5
}
