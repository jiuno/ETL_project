{
 "cells": [
  {
   "cell_type": "code",
   "execution_count": 1,
   "id": "9158b398",
   "metadata": {},
   "outputs": [],
   "source": [
    "import polars as pl\n",
    "from pathlib import Path\n",
    "import pandas as pd #Only for converting to csv"
   ]
  },
  {
   "cell_type": "markdown",
   "id": "75e6a57b",
   "metadata": {},
   "source": [
    "## productos"
   ]
  },
  {
   "cell_type": "code",
   "execution_count": 2,
   "id": "7f290a06",
   "metadata": {},
   "outputs": [
    {
     "name": "stdout",
     "output_type": "stream",
     "text": [
      "shape: (9, 5)\n",
      "┌────────────┬─────────────┬────────────┬────────────┬────────────┐\n",
      "│ statistic  ┆ id_producto ┆ nombre     ┆ categoría  ┆ proveedor  │\n",
      "│ ---        ┆ ---         ┆ ---        ┆ ---        ┆ ---        │\n",
      "│ str        ┆ str         ┆ str        ┆ str        ┆ str        │\n",
      "╞════════════╪═════════════╪════════════╪════════════╪════════════╡\n",
      "│ count      ┆ 20          ┆ 20         ┆ 20         ┆ 20         │\n",
      "│ null_count ┆ 0           ┆ 0          ┆ 0          ┆ 0          │\n",
      "│ mean       ┆ null        ┆ null       ┆ null       ┆ null       │\n",
      "│ std        ┆ null        ┆ null       ┆ null       ┆ null       │\n",
      "│ min        ┆ P001        ┆ Producto_1 ┆ Accesorios ┆ DeportesYA │\n",
      "│ 25%        ┆ null        ┆ null       ┆ null       ┆ null       │\n",
      "│ 50%        ┆ null        ┆ null       ┆ null       ┆ null       │\n",
      "│ 75%        ┆ null        ┆ null       ┆ null       ┆ null       │\n",
      "│ max        ┆ P020        ┆ Producto_9 ┆ Ropa       ┆ TextilSur  │\n",
      "└────────────┴─────────────┴────────────┴────────────┴────────────┘\n",
      "['id_producto', 'nombre', 'categoría', 'proveedor']\n",
      "Schema([('id_producto', String), ('nombre', String), ('categoría', String), ('proveedor', String)])\n"
     ]
    }
   ],
   "source": [
    "excel_path = Path(\"data/raw/productos.xlsx\")\n",
    "csv_path = Path(\"data/processed/productos.csv\")\n",
    "\n",
    "# Convertir Excel a CSV solo si no existe el CSV\n",
    "if not csv_path.exists():\n",
    "    df_xlsx = pd.read_excel(excel_path)\n",
    "    df_xlsx.to_csv(csv_path, index=False)\n",
    "\n",
    "# Ahora leemos con polars\n",
    "df_prod = pl.read_csv(csv_path)\n",
    "\n",
    "# Información básica\n",
    "print(df_prod.describe())\n",
    "\n",
    "# Columnas\n",
    "print(df_prod.columns)\n",
    "\n",
    "# Ver tipos de datos\n",
    "print(df_prod.schema)\n"
   ]
  },
  {
   "cell_type": "markdown",
   "id": "2c4aa6a7",
   "metadata": {},
   "source": [
    "## sucursales"
   ]
  },
  {
   "cell_type": "code",
   "execution_count": 3,
   "id": "e2736593",
   "metadata": {},
   "outputs": [
    {
     "name": "stdout",
     "output_type": "stream",
     "text": [
      "shape: (9, 4)\n",
      "┌────────────┬─────────────┬─────────┬─────────┐\n",
      "│ statistic  ┆ id_sucursal ┆ ciudad  ┆ región  │\n",
      "│ ---        ┆ ---         ┆ ---     ┆ ---     │\n",
      "│ str        ┆ str         ┆ str     ┆ str     │\n",
      "╞════════════╪═════════════╪═════════╪═════════╡\n",
      "│ count      ┆ 2           ┆ 2       ┆ 2       │\n",
      "│ null_count ┆ 0           ┆ 0       ┆ 0       │\n",
      "│ mean       ┆ null        ┆ null    ┆ null    │\n",
      "│ std        ┆ null        ┆ null    ┆ null    │\n",
      "│ min        ┆ S001        ┆ Córdoba ┆ Centro  │\n",
      "│ 25%        ┆ null        ┆ null    ┆ null    │\n",
      "│ 50%        ┆ null        ┆ null    ┆ null    │\n",
      "│ 75%        ┆ null        ┆ null    ┆ null    │\n",
      "│ max        ┆ S002        ┆ Rosario ┆ Litoral │\n",
      "└────────────┴─────────────┴─────────┴─────────┘\n",
      "['id_sucursal', 'ciudad', 'región']\n",
      "Schema([('id_sucursal', String), ('ciudad', String), ('región', String)])\n"
     ]
    }
   ],
   "source": [
    "excel_path = Path(\"data/raw/sucursales.xlsx\")\n",
    "csv_path = Path(\"data/processed/sucursales.csv\")\n",
    "\n",
    "# Convertir Excel a CSV solo si no existe el CSV\n",
    "if not csv_path.exists():\n",
    "    df_xlsx = pd.read_excel(excel_path)\n",
    "    df_xlsx.to_csv(csv_path, index=False)\n",
    "\n",
    "# Ahora leemos con polars\n",
    "df_suc = pl.read_csv(csv_path)\n",
    "#df_suc.head()\n",
    "\n",
    "# Información básica\n",
    "print(df_suc.describe())\n",
    "\n",
    "# Columnas\n",
    "print(df_suc.columns)\n",
    "\n",
    "# Ver tipos de datos\n",
    "print(df_suc.schema)\n",
    "\n"
   ]
  },
  {
   "cell_type": "code",
   "execution_count": 4,
   "id": "dc05188a",
   "metadata": {},
   "outputs": [
    {
     "name": "stdout",
     "output_type": "stream",
     "text": [
      "shape: (9, 7)\n",
      "┌────────────┬───────────┬────────────┬─────────────┬──────────┬─────────────────┬─────────────┐\n",
      "│ statistic  ┆ id_venta  ┆ fecha      ┆ id_producto ┆ cantidad ┆ precio_unitario ┆ id_sucursal │\n",
      "│ ---        ┆ ---       ┆ ---        ┆ ---         ┆ ---      ┆ ---             ┆ ---         │\n",
      "│ str        ┆ f64       ┆ str        ┆ str         ┆ f64      ┆ f64             ┆ str         │\n",
      "╞════════════╪═══════════╪════════════╪═════════════╪══════════╪═════════════════╪═════════════╡\n",
      "│ count      ┆ 100.0     ┆ 100        ┆ 100         ┆ 100.0    ┆ 100.0           ┆ 100         │\n",
      "│ null_count ┆ 0.0       ┆ 0          ┆ 0           ┆ 0.0      ┆ 0.0             ┆ 0           │\n",
      "│ mean       ┆ 50.5      ┆ null       ┆ null        ┆ 2.7      ┆ 155.0           ┆ null        │\n",
      "│ std        ┆ 29.011492 ┆ null       ┆ null        ┆ 1.35214  ┆ 108.827544      ┆ null        │\n",
      "│ min        ┆ 1.0       ┆ 2024-01-01 ┆ P001        ┆ 1.0      ┆ 50.0            ┆ S001        │\n",
      "│ 25%        ┆ 26.0      ┆ null       ┆ null        ┆ 1.0      ┆ 50.0            ┆ null        │\n",
      "│ 50%        ┆ 51.0      ┆ null       ┆ null        ┆ 3.0      ┆ 100.0           ┆ null        │\n",
      "│ 75%        ┆ 75.0      ┆ null       ┆ null        ┆ 4.0      ┆ 300.0           ┆ null        │\n",
      "│ max        ┆ 100.0     ┆ 2024-01-28 ┆ P020        ┆ 5.0      ┆ 300.0           ┆ S002        │\n",
      "└────────────┴───────────┴────────────┴─────────────┴──────────┴─────────────────┴─────────────┘\n",
      "['id_venta', 'fecha', 'id_producto', 'cantidad', 'precio_unitario', 'id_sucursal']\n",
      "Schema([('id_venta', Int64), ('fecha', String), ('id_producto', String), ('cantidad', Int64), ('precio_unitario', Int64), ('id_sucursal', String)])\n"
     ]
    }
   ],
   "source": [
    "excel_path = Path(\"data/raw/ventas_enero.xlsx\")\n",
    "csv_path = Path(\"data/processed/ventas_enero.csv\")\n",
    "\n",
    "# Convertir Excel a CSV solo si no existe el CSV\n",
    "if not csv_path.exists():\n",
    "    df_xlsx = pd.read_excel(excel_path)\n",
    "    df_xlsx.to_csv(csv_path, index=False)\n",
    "\n",
    "# Ahora leemos polars\n",
    "df_sales_jan = pl.read_csv(csv_path)\n",
    "\n",
    "\n",
    "# Información básica\n",
    "print(df_sales_jan.describe())\n",
    "\n",
    "# Columnas\n",
    "print(df_sales_jan.columns)\n",
    "\n",
    "# Ver tipos de datos\n",
    "print(df_sales_jan.schema)\n",
    "\n"
   ]
  },
  {
   "cell_type": "code",
   "execution_count": 5,
   "id": "90cb0df0",
   "metadata": {},
   "outputs": [
    {
     "name": "stdout",
     "output_type": "stream",
     "text": [
      "shape: (9, 7)\n",
      "┌────────────┬───────────┬────────────┬─────────────┬──────────┬─────────────────┬─────────────┐\n",
      "│ statistic  ┆ id_venta  ┆ fecha      ┆ id_producto ┆ cantidad ┆ precio_unitario ┆ id_sucursal │\n",
      "│ ---        ┆ ---       ┆ ---        ┆ ---         ┆ ---      ┆ ---             ┆ ---         │\n",
      "│ str        ┆ f64       ┆ str        ┆ str         ┆ f64      ┆ f64             ┆ str         │\n",
      "╞════════════╪═══════════╪════════════╪═════════════╪══════════╪═════════════════╪═════════════╡\n",
      "│ count      ┆ 100.0     ┆ 100        ┆ 100         ┆ 100.0    ┆ 100.0           ┆ 100         │\n",
      "│ null_count ┆ 0.0       ┆ 0          ┆ 0           ┆ 0.0      ┆ 0.0             ┆ 0           │\n",
      "│ mean       ┆ 150.5     ┆ null       ┆ null        ┆ 2.8      ┆ 151.5           ┆ null        │\n",
      "│ std        ┆ 29.011492 ┆ null       ┆ null        ┆ 1.428427 ┆ 111.340546      ┆ null        │\n",
      "│ min        ┆ 101.0     ┆ 2024-02-01 ┆ P001        ┆ 1.0      ┆ 50.0            ┆ S001        │\n",
      "│ 25%        ┆ 126.0     ┆ null       ┆ null        ┆ 2.0      ┆ 50.0            ┆ null        │\n",
      "│ 50%        ┆ 151.0     ┆ null       ┆ null        ┆ 3.0      ┆ 100.0           ┆ null        │\n",
      "│ 75%        ┆ 175.0     ┆ null       ┆ null        ┆ 4.0      ┆ 300.0           ┆ null        │\n",
      "│ max        ┆ 200.0     ┆ 2024-02-28 ┆ P020        ┆ 5.0      ┆ 300.0           ┆ S002        │\n",
      "└────────────┴───────────┴────────────┴─────────────┴──────────┴─────────────────┴─────────────┘\n",
      "['id_venta', 'fecha', 'id_producto', 'cantidad', 'precio_unitario', 'id_sucursal']\n",
      "Schema([('id_venta', Int64), ('fecha', String), ('id_producto', String), ('cantidad', Int64), ('precio_unitario', Int64), ('id_sucursal', String)])\n"
     ]
    }
   ],
   "source": [
    "excel_path = Path(\"data/raw/ventas_febrero.xlsx\")\n",
    "csv_path = Path(\"data/processed/ventas_febrero.csv\")\n",
    "\n",
    "# Convertir Excel a CSV solo si no existe el CSV\n",
    "if not csv_path.exists():\n",
    "    df_xlsx = pd.read_excel(excel_path)\n",
    "    df_xlsx.to_csv(csv_path, index=False)\n",
    "\n",
    "# Ahora leemos polars\n",
    "df_sales_feb = pl.read_csv(csv_path)\n",
    "\n",
    "\n",
    "# Información básica\n",
    "print(df_sales_feb.describe())\n",
    "\n",
    "# Columnas\n",
    "print(df_sales_feb.columns)\n",
    "\n",
    "# Ver tipos de datos\n",
    "print(df_sales_feb.schema)\n",
    "\n"
   ]
  },
  {
   "cell_type": "code",
   "execution_count": 6,
   "id": "bc079526",
   "metadata": {},
   "outputs": [
    {
     "data": {
      "text/html": [
       "<div><style>\n",
       ".dataframe > thead > tr,\n",
       ".dataframe > tbody > tr {\n",
       "  text-align: right;\n",
       "  white-space: pre-wrap;\n",
       "}\n",
       "</style>\n",
       "<small>shape: (200, 6)</small><table border=\"1\" class=\"dataframe\"><thead><tr><th>id_venta</th><th>fecha</th><th>id_producto</th><th>cantidad</th><th>precio_unitario</th><th>id_sucursal</th></tr><tr><td>i64</td><td>str</td><td>str</td><td>i64</td><td>i64</td><td>str</td></tr></thead><tbody><tr><td>1</td><td>&quot;2024-01-07&quot;</td><td>&quot;P020&quot;</td><td>1</td><td>50</td><td>&quot;S001&quot;</td></tr><tr><td>2</td><td>&quot;2024-01-20&quot;</td><td>&quot;P019&quot;</td><td>4</td><td>100</td><td>&quot;S002&quot;</td></tr><tr><td>3</td><td>&quot;2024-01-15&quot;</td><td>&quot;P019&quot;</td><td>5</td><td>100</td><td>&quot;S001&quot;</td></tr><tr><td>4</td><td>&quot;2024-01-11&quot;</td><td>&quot;P002&quot;</td><td>1</td><td>300</td><td>&quot;S002&quot;</td></tr><tr><td>5</td><td>&quot;2024-01-08&quot;</td><td>&quot;P013&quot;</td><td>3</td><td>300</td><td>&quot;S001&quot;</td></tr><tr><td>&hellip;</td><td>&hellip;</td><td>&hellip;</td><td>&hellip;</td><td>&hellip;</td><td>&hellip;</td></tr><tr><td>196</td><td>&quot;2024-02-07&quot;</td><td>&quot;P012&quot;</td><td>2</td><td>100</td><td>&quot;S002&quot;</td></tr><tr><td>197</td><td>&quot;2024-02-17&quot;</td><td>&quot;P009&quot;</td><td>4</td><td>100</td><td>&quot;S002&quot;</td></tr><tr><td>198</td><td>&quot;2024-02-17&quot;</td><td>&quot;P008&quot;</td><td>1</td><td>50</td><td>&quot;S002&quot;</td></tr><tr><td>199</td><td>&quot;2024-02-13&quot;</td><td>&quot;P016&quot;</td><td>5</td><td>50</td><td>&quot;S001&quot;</td></tr><tr><td>200</td><td>&quot;2024-02-15&quot;</td><td>&quot;P019&quot;</td><td>3</td><td>50</td><td>&quot;S001&quot;</td></tr></tbody></table></div>"
      ],
      "text/plain": [
       "shape: (200, 6)\n",
       "┌──────────┬────────────┬─────────────┬──────────┬─────────────────┬─────────────┐\n",
       "│ id_venta ┆ fecha      ┆ id_producto ┆ cantidad ┆ precio_unitario ┆ id_sucursal │\n",
       "│ ---      ┆ ---        ┆ ---         ┆ ---      ┆ ---             ┆ ---         │\n",
       "│ i64      ┆ str        ┆ str         ┆ i64      ┆ i64             ┆ str         │\n",
       "╞══════════╪════════════╪═════════════╪══════════╪═════════════════╪═════════════╡\n",
       "│ 1        ┆ 2024-01-07 ┆ P020        ┆ 1        ┆ 50              ┆ S001        │\n",
       "│ 2        ┆ 2024-01-20 ┆ P019        ┆ 4        ┆ 100             ┆ S002        │\n",
       "│ 3        ┆ 2024-01-15 ┆ P019        ┆ 5        ┆ 100             ┆ S001        │\n",
       "│ 4        ┆ 2024-01-11 ┆ P002        ┆ 1        ┆ 300             ┆ S002        │\n",
       "│ 5        ┆ 2024-01-08 ┆ P013        ┆ 3        ┆ 300             ┆ S001        │\n",
       "│ …        ┆ …          ┆ …           ┆ …        ┆ …               ┆ …           │\n",
       "│ 196      ┆ 2024-02-07 ┆ P012        ┆ 2        ┆ 100             ┆ S002        │\n",
       "│ 197      ┆ 2024-02-17 ┆ P009        ┆ 4        ┆ 100             ┆ S002        │\n",
       "│ 198      ┆ 2024-02-17 ┆ P008        ┆ 1        ┆ 50              ┆ S002        │\n",
       "│ 199      ┆ 2024-02-13 ┆ P016        ┆ 5        ┆ 50              ┆ S001        │\n",
       "│ 200      ┆ 2024-02-15 ┆ P019        ┆ 3        ┆ 50              ┆ S001        │\n",
       "└──────────┴────────────┴─────────────┴──────────┴─────────────────┴─────────────┘"
      ]
     },
     "execution_count": 6,
     "metadata": {},
     "output_type": "execute_result"
    }
   ],
   "source": [
    "df_sales = df_sales_jan.vstack(df_sales_feb)\n",
    "df_sales"
   ]
  },
  {
   "cell_type": "code",
   "execution_count": 7,
   "id": "825e8efa",
   "metadata": {},
   "outputs": [],
   "source": [
    "df_sales.write_csv(\"data/processed/sales.csv\")"
   ]
  },
  {
   "cell_type": "code",
   "execution_count": 8,
   "id": "74891676",
   "metadata": {},
   "outputs": [
    {
     "name": "stdout",
     "output_type": "stream",
     "text": [
      "📐 Dimensiones del DataFrame:\n",
      "Filas: 200, Columnas: 6\n",
      "\n",
      "🧱 Columnas y tipos:\n",
      "[Int64, String, String, Int64, Int64, String]\n",
      "\n",
      "🔎 Primeras filas:\n",
      "shape: (5, 6)\n",
      "┌──────────┬────────────┬─────────────┬──────────┬─────────────────┬─────────────┐\n",
      "│ id_venta ┆ fecha      ┆ id_producto ┆ cantidad ┆ precio_unitario ┆ id_sucursal │\n",
      "│ ---      ┆ ---        ┆ ---         ┆ ---      ┆ ---             ┆ ---         │\n",
      "│ i64      ┆ str        ┆ str         ┆ i64      ┆ i64             ┆ str         │\n",
      "╞══════════╪════════════╪═════════════╪══════════╪═════════════════╪═════════════╡\n",
      "│ 1        ┆ 2024-01-07 ┆ P020        ┆ 1        ┆ 50              ┆ S001        │\n",
      "│ 2        ┆ 2024-01-20 ┆ P019        ┆ 4        ┆ 100             ┆ S002        │\n",
      "│ 3        ┆ 2024-01-15 ┆ P019        ┆ 5        ┆ 100             ┆ S001        │\n",
      "│ 4        ┆ 2024-01-11 ┆ P002        ┆ 1        ┆ 300             ┆ S002        │\n",
      "│ 5        ┆ 2024-01-08 ┆ P013        ┆ 3        ┆ 300             ┆ S001        │\n",
      "└──────────┴────────────┴─────────────┴──────────┴─────────────────┴─────────────┘ \n",
      "\n",
      "❓ Valores nulos por columna:\n",
      "shape: (1, 6)\n",
      "┌──────────┬───────┬─────────────┬──────────┬─────────────────┬─────────────┐\n",
      "│ id_venta ┆ fecha ┆ id_producto ┆ cantidad ┆ precio_unitario ┆ id_sucursal │\n",
      "│ ---      ┆ ---   ┆ ---         ┆ ---      ┆ ---             ┆ ---         │\n",
      "│ u32      ┆ u32   ┆ u32         ┆ u32      ┆ u32             ┆ u32         │\n",
      "╞══════════╪═══════╪═════════════╪══════════╪═════════════════╪═════════════╡\n",
      "│ 0        ┆ 0     ┆ 0           ┆ 0        ┆ 0               ┆ 0           │\n",
      "└──────────┴───────┴─────────────┴──────────┴─────────────────┴─────────────┘ \n",
      "\n",
      "📊 Estadísticas básicas:\n",
      "shape: (9, 7)\n",
      "┌────────────┬───────────┬────────────┬─────────────┬──────────┬─────────────────┬─────────────┐\n",
      "│ statistic  ┆ id_venta  ┆ fecha      ┆ id_producto ┆ cantidad ┆ precio_unitario ┆ id_sucursal │\n",
      "│ ---        ┆ ---       ┆ ---        ┆ ---         ┆ ---      ┆ ---             ┆ ---         │\n",
      "│ str        ┆ f64       ┆ str        ┆ str         ┆ f64      ┆ f64             ┆ str         │\n",
      "╞════════════╪═══════════╪════════════╪═════════════╪══════════╪═════════════════╪═════════════╡\n",
      "│ count      ┆ 200.0     ┆ 200        ┆ 200         ┆ 200.0    ┆ 200.0           ┆ 200         │\n",
      "│ null_count ┆ 0.0       ┆ 0          ┆ 0           ┆ 0.0      ┆ 0.0             ┆ 0           │\n",
      "│ mean       ┆ 100.5     ┆ null       ┆ null        ┆ 2.75     ┆ 153.25          ┆ null        │\n",
      "│ std        ┆ 57.879185 ┆ null       ┆ null        ┆ 1.388213 ┆ 109.828269      ┆ null        │\n",
      "│ min        ┆ 1.0       ┆ 2024-01-01 ┆ P001        ┆ 1.0      ┆ 50.0            ┆ S001        │\n",
      "│ 25%        ┆ 51.0      ┆ null       ┆ null        ┆ 1.0      ┆ 50.0            ┆ null        │\n",
      "│ 50%        ┆ 101.0     ┆ null       ┆ null        ┆ 3.0      ┆ 100.0           ┆ null        │\n",
      "│ 75%        ┆ 150.0     ┆ null       ┆ null        ┆ 4.0      ┆ 300.0           ┆ null        │\n",
      "│ max        ┆ 200.0     ┆ 2024-02-28 ┆ P020        ┆ 5.0      ┆ 300.0           ┆ S002        │\n",
      "└────────────┴───────────┴────────────┴─────────────┴──────────┴─────────────────┴─────────────┘ \n",
      "\n",
      "🔁 Duplicados (filas completas):\n",
      "0 duplicados encontrados\n",
      "\n",
      "🔤 Valores únicos por columna de tipo string:\n",
      "- fecha: 53 únicos\n",
      "  Ejemplo: shape: (5,)\n",
      "Series: 'fecha' [str]\n",
      "[\n",
      "\t\"2024-01-01\"\n",
      "\t\"2024-01-02\"\n",
      "\t\"2024-01-03\"\n",
      "\t\"2024-01-04\"\n",
      "\t\"2024-01-05\"\n",
      "]\n",
      "\n",
      "- id_producto: 20 únicos\n",
      "  Ejemplo: shape: (5,)\n",
      "Series: 'id_producto' [str]\n",
      "[\n",
      "\t\"P001\"\n",
      "\t\"P002\"\n",
      "\t\"P003\"\n",
      "\t\"P004\"\n",
      "\t\"P005\"\n",
      "]\n",
      "\n",
      "- id_sucursal: 2 únicos\n",
      "  Ejemplo: shape: (2,)\n",
      "Series: 'id_sucursal' [str]\n",
      "[\n",
      "\t\"S001\"\n",
      "\t\"S002\"\n",
      "]\n",
      "\n",
      "📅 Columna 'fecha' convertida a fecha.\n",
      "   Rango: 2024-01-01 → 2024-02-28\n",
      "\n"
     ]
    }
   ],
   "source": [
    "from utils.validation import validar_df_polars\n",
    "\n",
    "validar_df_polars(df_sales, columnas_fecha=[\"fecha\"])\n"
   ]
  },
  {
   "cell_type": "code",
   "execution_count": 9,
   "id": "7b4bc77c",
   "metadata": {},
   "outputs": [],
   "source": [
    "df_sales = df_sales.with_columns(\n",
    "    pl.col(\"fecha\").str.strptime(pl.Date, \"%Y-%m-%d\", strict=False)\n",
    ")\n"
   ]
  },
  {
   "cell_type": "code",
   "execution_count": 10,
   "id": "78c062fa",
   "metadata": {},
   "outputs": [
    {
     "name": "stdout",
     "output_type": "stream",
     "text": [
      "📐 Dimensiones del DataFrame:\n",
      "Filas: 200, Columnas: 6\n",
      "\n",
      "🧱 Columnas y tipos:\n",
      "[Int64, Date, String, Int64, Int64, String]\n",
      "\n",
      "🔎 Primeras filas:\n",
      "shape: (5, 6)\n",
      "┌──────────┬────────────┬─────────────┬──────────┬─────────────────┬─────────────┐\n",
      "│ id_venta ┆ fecha      ┆ id_producto ┆ cantidad ┆ precio_unitario ┆ id_sucursal │\n",
      "│ ---      ┆ ---        ┆ ---         ┆ ---      ┆ ---             ┆ ---         │\n",
      "│ i64      ┆ date       ┆ str         ┆ i64      ┆ i64             ┆ str         │\n",
      "╞══════════╪════════════╪═════════════╪══════════╪═════════════════╪═════════════╡\n",
      "│ 1        ┆ 2024-01-07 ┆ P020        ┆ 1        ┆ 50              ┆ S001        │\n",
      "│ 2        ┆ 2024-01-20 ┆ P019        ┆ 4        ┆ 100             ┆ S002        │\n",
      "│ 3        ┆ 2024-01-15 ┆ P019        ┆ 5        ┆ 100             ┆ S001        │\n",
      "│ 4        ┆ 2024-01-11 ┆ P002        ┆ 1        ┆ 300             ┆ S002        │\n",
      "│ 5        ┆ 2024-01-08 ┆ P013        ┆ 3        ┆ 300             ┆ S001        │\n",
      "└──────────┴────────────┴─────────────┴──────────┴─────────────────┴─────────────┘ \n",
      "\n",
      "❓ Valores nulos por columna:\n",
      "shape: (1, 6)\n",
      "┌──────────┬───────┬─────────────┬──────────┬─────────────────┬─────────────┐\n",
      "│ id_venta ┆ fecha ┆ id_producto ┆ cantidad ┆ precio_unitario ┆ id_sucursal │\n",
      "│ ---      ┆ ---   ┆ ---         ┆ ---      ┆ ---             ┆ ---         │\n",
      "│ u32      ┆ u32   ┆ u32         ┆ u32      ┆ u32             ┆ u32         │\n",
      "╞══════════╪═══════╪═════════════╪══════════╪═════════════════╪═════════════╡\n",
      "│ 0        ┆ 0     ┆ 0           ┆ 0        ┆ 0               ┆ 0           │\n",
      "└──────────┴───────┴─────────────┴──────────┴─────────────────┴─────────────┘ \n",
      "\n",
      "📊 Estadísticas básicas:\n",
      "shape: (9, 7)\n",
      "┌────────────┬───────────┬────────────┬─────────────┬──────────┬─────────────────┬─────────────┐\n",
      "│ statistic  ┆ id_venta  ┆ fecha      ┆ id_producto ┆ cantidad ┆ precio_unitario ┆ id_sucursal │\n",
      "│ ---        ┆ ---       ┆ ---        ┆ ---         ┆ ---      ┆ ---             ┆ ---         │\n",
      "│ str        ┆ f64       ┆ str        ┆ str         ┆ f64      ┆ f64             ┆ str         │\n",
      "╞════════════╪═══════════╪════════════╪═════════════╪══════════╪═════════════════╪═════════════╡\n",
      "│ count      ┆ 200.0     ┆ 200        ┆ 200         ┆ 200.0    ┆ 200.0           ┆ 200         │\n",
      "│ null_count ┆ 0.0       ┆ 0          ┆ 0           ┆ 0.0      ┆ 0.0             ┆ 0           │\n",
      "│ mean       ┆ 100.5     ┆ 2024-01-30 ┆ null        ┆ 2.75     ┆ 153.25          ┆ null        │\n",
      "│            ┆           ┆ 18:00:00   ┆             ┆          ┆                 ┆             │\n",
      "│ std        ┆ 57.879185 ┆ null       ┆ null        ┆ 1.388213 ┆ 109.828269      ┆ null        │\n",
      "│ min        ┆ 1.0       ┆ 2024-01-01 ┆ P001        ┆ 1.0      ┆ 50.0            ┆ S001        │\n",
      "│ 25%        ┆ 51.0      ┆ 2024-01-15 ┆ null        ┆ 1.0      ┆ 50.0            ┆ null        │\n",
      "│ 50%        ┆ 101.0     ┆ 2024-02-01 ┆ null        ┆ 3.0      ┆ 100.0           ┆ null        │\n",
      "│ 75%        ┆ 150.0     ┆ 2024-02-17 ┆ null        ┆ 4.0      ┆ 300.0           ┆ null        │\n",
      "│ max        ┆ 200.0     ┆ 2024-02-28 ┆ P020        ┆ 5.0      ┆ 300.0           ┆ S002        │\n",
      "└────────────┴───────────┴────────────┴─────────────┴──────────┴─────────────────┴─────────────┘ \n",
      "\n",
      "🔁 Duplicados (filas completas):\n",
      "0 duplicados encontrados\n",
      "\n",
      "🔤 Valores únicos por columna de tipo string:\n",
      "- id_producto: 20 únicos\n",
      "  Ejemplo: shape: (5,)\n",
      "Series: 'id_producto' [str]\n",
      "[\n",
      "\t\"P001\"\n",
      "\t\"P002\"\n",
      "\t\"P003\"\n",
      "\t\"P004\"\n",
      "\t\"P005\"\n",
      "]\n",
      "\n",
      "- id_sucursal: 2 únicos\n",
      "  Ejemplo: shape: (2,)\n",
      "Series: 'id_sucursal' [str]\n",
      "[\n",
      "\t\"S001\"\n",
      "\t\"S002\"\n",
      "]\n",
      "\n",
      "📅 Columna 'fecha' ya es de tipo fecha (Date).\n",
      "   Rango: 2024-01-01 → 2024-02-28\n",
      "\n"
     ]
    }
   ],
   "source": [
    "validar_df_polars(df_sales, columnas_fecha=[\"fecha\"])"
   ]
  },
  {
   "cell_type": "markdown",
   "id": "637b8590",
   "metadata": {},
   "source": [
    "%md\n",
    "## Guardado tablas"
   ]
  },
  {
   "cell_type": "code",
   "execution_count": 12,
   "id": "2c382971",
   "metadata": {},
   "outputs": [],
   "source": [
    "import sqlite3\n",
    "import pandas as pd\n",
    "import os\n",
    "import pyarrow\n",
    "\n",
    "# Convertir de Polars a pandas\n",
    "df_productos_pd = df_prod.to_pandas()\n",
    "df_ventas_pd = df_sales.to_pandas()\n",
    "df_sucursales_pd = df_suc.to_pandas()\n",
    "\n",
    "# Crear/conectar a la base SQLite\n",
    "os.makedirs(\"db\", exist_ok=True)\n",
    "conn = sqlite3.connect(\"db/negocio.db\")\n",
    "\n",
    "\n",
    "# Guardar cada uno con un nombre de tabla distinto\n",
    "df_sucursales_pd.to_sql(\"sucursales\", conn, if_exists=\"replace\", index=False)\n",
    "df_ventas_pd.to_sql(\"ventas\", conn, if_exists=\"replace\", index=False)\n",
    "df_productos_pd.to_sql(\"productos\", conn, if_exists=\"replace\", index=False)\n",
    "\n",
    "# Cerrar conexión\n",
    "conn.close()\n"
   ]
  },
  {
   "cell_type": "code",
   "execution_count": 13,
   "id": "eadcf3e9",
   "metadata": {},
   "outputs": [
    {
     "data": {
      "text/html": [
       "<div><style>\n",
       ".dataframe > thead > tr,\n",
       ".dataframe > tbody > tr {\n",
       "  text-align: right;\n",
       "  white-space: pre-wrap;\n",
       "}\n",
       "</style>\n",
       "<small>shape: (20, 4)</small><table border=\"1\" class=\"dataframe\"><thead><tr><th>id_producto</th><th>nombre</th><th>categoría</th><th>proveedor</th></tr><tr><td>str</td><td>str</td><td>str</td><td>str</td></tr></thead><tbody><tr><td>&quot;P001&quot;</td><td>&quot;Producto_1&quot;</td><td>&quot;Ropa&quot;</td><td>&quot;ModaPlus&quot;</td></tr><tr><td>&quot;P002&quot;</td><td>&quot;Producto_2&quot;</td><td>&quot;Deportes&quot;</td><td>&quot;StepSport&quot;</td></tr><tr><td>&quot;P003&quot;</td><td>&quot;Producto_3&quot;</td><td>&quot;Calzado&quot;</td><td>&quot;StepSport&quot;</td></tr><tr><td>&quot;P004&quot;</td><td>&quot;Producto_4&quot;</td><td>&quot;Calzado&quot;</td><td>&quot;TextilSur&quot;</td></tr><tr><td>&quot;P005&quot;</td><td>&quot;Producto_5&quot;</td><td>&quot;Deportes&quot;</td><td>&quot;ModaPlus&quot;</td></tr><tr><td>&hellip;</td><td>&hellip;</td><td>&hellip;</td><td>&hellip;</td></tr><tr><td>&quot;P016&quot;</td><td>&quot;Producto_16&quot;</td><td>&quot;Calzado&quot;</td><td>&quot;FríoPolar&quot;</td></tr><tr><td>&quot;P017&quot;</td><td>&quot;Producto_17&quot;</td><td>&quot;Deportes&quot;</td><td>&quot;TextilSur&quot;</td></tr><tr><td>&quot;P018&quot;</td><td>&quot;Producto_18&quot;</td><td>&quot;Deportes&quot;</td><td>&quot;DeportesYA&quot;</td></tr><tr><td>&quot;P019&quot;</td><td>&quot;Producto_19&quot;</td><td>&quot;Deportes&quot;</td><td>&quot;ModaPlus&quot;</td></tr><tr><td>&quot;P020&quot;</td><td>&quot;Producto_20&quot;</td><td>&quot;Deportes&quot;</td><td>&quot;TextilSur&quot;</td></tr></tbody></table></div>"
      ],
      "text/plain": [
       "shape: (20, 4)\n",
       "┌─────────────┬─────────────┬───────────┬────────────┐\n",
       "│ id_producto ┆ nombre      ┆ categoría ┆ proveedor  │\n",
       "│ ---         ┆ ---         ┆ ---       ┆ ---        │\n",
       "│ str         ┆ str         ┆ str       ┆ str        │\n",
       "╞═════════════╪═════════════╪═══════════╪════════════╡\n",
       "│ P001        ┆ Producto_1  ┆ Ropa      ┆ ModaPlus   │\n",
       "│ P002        ┆ Producto_2  ┆ Deportes  ┆ StepSport  │\n",
       "│ P003        ┆ Producto_3  ┆ Calzado   ┆ StepSport  │\n",
       "│ P004        ┆ Producto_4  ┆ Calzado   ┆ TextilSur  │\n",
       "│ P005        ┆ Producto_5  ┆ Deportes  ┆ ModaPlus   │\n",
       "│ …           ┆ …           ┆ …         ┆ …          │\n",
       "│ P016        ┆ Producto_16 ┆ Calzado   ┆ FríoPolar  │\n",
       "│ P017        ┆ Producto_17 ┆ Deportes  ┆ TextilSur  │\n",
       "│ P018        ┆ Producto_18 ┆ Deportes  ┆ DeportesYA │\n",
       "│ P019        ┆ Producto_19 ┆ Deportes  ┆ ModaPlus   │\n",
       "│ P020        ┆ Producto_20 ┆ Deportes  ┆ TextilSur  │\n",
       "└─────────────┴─────────────┴───────────┴────────────┘"
      ]
     },
     "metadata": {},
     "output_type": "display_data"
    }
   ],
   "source": [
    "query = \"Select * from productos\"\n",
    "\n",
    "with sqlite3.connect(\"db/negocio.db\") as conn:\n",
    "    df_pandas = pd.read_sql_query(query, conn)\n",
    "df_polars = pl.from_pandas(df_pandas)\n",
    "\n",
    "display(df_polars)\n",
    "\n"
   ]
  }
 ],
 "metadata": {
  "kernelspec": {
   "display_name": "venv-etl",
   "language": "python",
   "name": "python3"
  },
  "language_info": {
   "codemirror_mode": {
    "name": "ipython",
    "version": 3
   },
   "file_extension": ".py",
   "mimetype": "text/x-python",
   "name": "python",
   "nbconvert_exporter": "python",
   "pygments_lexer": "ipython3",
   "version": "3.10.12"
  }
 },
 "nbformat": 4,
 "nbformat_minor": 5
}
