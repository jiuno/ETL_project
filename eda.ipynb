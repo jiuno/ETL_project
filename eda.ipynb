{
 "cells": [
  {
   "cell_type": "code",
   "execution_count": 1,
   "id": "9158b398",
   "metadata": {},
   "outputs": [],
   "source": [
    "import polars as pl\n",
    "from pathlib import Path\n",
    "import pandas as pd #Only for converting to csv"
   ]
  },
  {
   "cell_type": "markdown",
   "id": "75e6a57b",
   "metadata": {},
   "source": [
    "## productos"
   ]
  },
  {
   "cell_type": "code",
   "execution_count": 7,
   "id": "7f290a06",
   "metadata": {},
   "outputs": [
    {
     "name": "stdout",
     "output_type": "stream",
     "text": [
      "shape: (9, 5)\n",
      "┌────────────┬─────────────┬────────────┬────────────┬────────────┐\n",
      "│ statistic  ┆ id_producto ┆ nombre     ┆ categoría  ┆ proveedor  │\n",
      "│ ---        ┆ ---         ┆ ---        ┆ ---        ┆ ---        │\n",
      "│ str        ┆ str         ┆ str        ┆ str        ┆ str        │\n",
      "╞════════════╪═════════════╪════════════╪════════════╪════════════╡\n",
      "│ count      ┆ 20          ┆ 20         ┆ 20         ┆ 20         │\n",
      "│ null_count ┆ 0           ┆ 0          ┆ 0          ┆ 0          │\n",
      "│ mean       ┆ null        ┆ null       ┆ null       ┆ null       │\n",
      "│ std        ┆ null        ┆ null       ┆ null       ┆ null       │\n",
      "│ min        ┆ P001        ┆ Producto_1 ┆ Accesorios ┆ DeportesYA │\n",
      "│ 25%        ┆ null        ┆ null       ┆ null       ┆ null       │\n",
      "│ 50%        ┆ null        ┆ null       ┆ null       ┆ null       │\n",
      "│ 75%        ┆ null        ┆ null       ┆ null       ┆ null       │\n",
      "│ max        ┆ P020        ┆ Producto_9 ┆ Ropa       ┆ TextilSur  │\n",
      "└────────────┴─────────────┴────────────┴────────────┴────────────┘\n",
      "['id_producto', 'nombre', 'categoría', 'proveedor']\n",
      "Schema([('id_producto', String), ('nombre', String), ('categoría', String), ('proveedor', String)])\n"
     ]
    }
   ],
   "source": [
    "excel_path = Path(\"data/raw/productos.xlsx\")\n",
    "csv_path = Path(\"data/processed/productos.csv\")\n",
    "\n",
    "# Convertir Excel a CSV solo si no existe el CSV\n",
    "if not csv_path.exists():\n",
    "    df_xlsx = pd.read_excel(excel_path)\n",
    "    df_xlsx.to_csv(csv_path, index=False)\n",
    "\n",
    "# Ahora leemos con polars\n",
    "df_prod = pl.read_csv(csv_path)\n",
    "\n",
    "# Información básica\n",
    "print(df_prod.describe())\n",
    "\n",
    "# Columnas\n",
    "print(df_prod.columns)\n",
    "\n",
    "# Ver tipos de datos\n",
    "print(df_prod.schema)\n"
   ]
  },
  {
   "cell_type": "markdown",
   "id": "2c4aa6a7",
   "metadata": {},
   "source": [
    "## ventas"
   ]
  },
  {
   "cell_type": "code",
   "execution_count": null,
   "id": "e2736593",
   "metadata": {},
   "outputs": [
    {
     "name": "stdout",
     "output_type": "stream",
     "text": [
      "shape: (9, 4)\n",
      "┌────────────┬─────────────┬─────────┬─────────┐\n",
      "│ statistic  ┆ id_sucursal ┆ ciudad  ┆ región  │\n",
      "│ ---        ┆ ---         ┆ ---     ┆ ---     │\n",
      "│ str        ┆ str         ┆ str     ┆ str     │\n",
      "╞════════════╪═════════════╪═════════╪═════════╡\n",
      "│ count      ┆ 2           ┆ 2       ┆ 2       │\n",
      "│ null_count ┆ 0           ┆ 0       ┆ 0       │\n",
      "│ mean       ┆ null        ┆ null    ┆ null    │\n",
      "│ std        ┆ null        ┆ null    ┆ null    │\n",
      "│ min        ┆ S001        ┆ Córdoba ┆ Centro  │\n",
      "│ 25%        ┆ null        ┆ null    ┆ null    │\n",
      "│ 50%        ┆ null        ┆ null    ┆ null    │\n",
      "│ 75%        ┆ null        ┆ null    ┆ null    │\n",
      "│ max        ┆ S002        ┆ Rosario ┆ Litoral │\n",
      "└────────────┴─────────────┴─────────┴─────────┘\n",
      "['id_sucursal', 'ciudad', 'región']\n",
      "Schema([('id_sucursal', String), ('ciudad', String), ('región', String)])\n"
     ]
    }
   ],
   "source": [
    "excel_path = Path(\"data/raw/sucursales.xlsx\")\n",
    "csv_path = Path(\"data/processed/sucursales.csv\")\n",
    "\n",
    "# Convertir Excel a CSV solo si no existe el CSV\n",
    "if not csv_path.exists():\n",
    "    df_xlsx = pd.read_excel(excel_path)\n",
    "    df_xlsx.to_csv(csv_path, index=False)\n",
    "\n",
    "# Ahora leemos con polars\n",
    "df_suc = pl.read_csv(csv_path)\n",
    "#df_suc.head()\n",
    "\n",
    "# Información básica\n",
    "print(df_suc.describe())\n",
    "\n",
    "# Columnas\n",
    "print(df_suc.columns)\n",
    "\n",
    "# Ver tipos de datos\n",
    "print(df_suc.schema)\n",
    "\n"
   ]
  },
  {
   "cell_type": "code",
   "execution_count": 10,
   "id": "dc05188a",
   "metadata": {},
   "outputs": [
    {
     "name": "stdout",
     "output_type": "stream",
     "text": [
      "shape: (9, 7)\n",
      "┌────────────┬───────────┬────────────┬─────────────┬──────────┬─────────────────┬─────────────┐\n",
      "│ statistic  ┆ id_venta  ┆ fecha      ┆ id_producto ┆ cantidad ┆ precio_unitario ┆ id_sucursal │\n",
      "│ ---        ┆ ---       ┆ ---        ┆ ---         ┆ ---      ┆ ---             ┆ ---         │\n",
      "│ str        ┆ f64       ┆ str        ┆ str         ┆ f64      ┆ f64             ┆ str         │\n",
      "╞════════════╪═══════════╪════════════╪═════════════╪══════════╪═════════════════╪═════════════╡\n",
      "│ count      ┆ 100.0     ┆ 100        ┆ 100         ┆ 100.0    ┆ 100.0           ┆ 100         │\n",
      "│ null_count ┆ 0.0       ┆ 0          ┆ 0           ┆ 0.0      ┆ 0.0             ┆ 0           │\n",
      "│ mean       ┆ 50.5      ┆ null       ┆ null        ┆ 2.7      ┆ 155.0           ┆ null        │\n",
      "│ std        ┆ 29.011492 ┆ null       ┆ null        ┆ 1.35214  ┆ 108.827544      ┆ null        │\n",
      "│ min        ┆ 1.0       ┆ 2024-01-01 ┆ P001        ┆ 1.0      ┆ 50.0            ┆ S001        │\n",
      "│ 25%        ┆ 26.0      ┆ null       ┆ null        ┆ 1.0      ┆ 50.0            ┆ null        │\n",
      "│ 50%        ┆ 51.0      ┆ null       ┆ null        ┆ 3.0      ┆ 100.0           ┆ null        │\n",
      "│ 75%        ┆ 75.0      ┆ null       ┆ null        ┆ 4.0      ┆ 300.0           ┆ null        │\n",
      "│ max        ┆ 100.0     ┆ 2024-01-28 ┆ P020        ┆ 5.0      ┆ 300.0           ┆ S002        │\n",
      "└────────────┴───────────┴────────────┴─────────────┴──────────┴─────────────────┴─────────────┘\n",
      "['id_venta', 'fecha', 'id_producto', 'cantidad', 'precio_unitario', 'id_sucursal']\n",
      "Schema([('id_venta', Int64), ('fecha', String), ('id_producto', String), ('cantidad', Int64), ('precio_unitario', Int64), ('id_sucursal', String)])\n"
     ]
    }
   ],
   "source": [
    "excel_path = Path(\"data/raw/ventas_enero.xlsx\")\n",
    "csv_path = Path(\"data/processed/ventas_enero.csv\")\n",
    "\n",
    "# Convertir Excel a CSV solo si no existe el CSV\n",
    "if not csv_path.exists():\n",
    "    df_xlsx = pd.read_excel(excel_path)\n",
    "    df_xlsx.to_csv(csv_path, index=False)\n",
    "\n",
    "# Ahora leemos polars\n",
    "df_sales_jan = pl.read_csv(csv_path)\n",
    "\n",
    "\n",
    "# Información básica\n",
    "print(df_sales_jan.describe())\n",
    "\n",
    "# Columnas\n",
    "print(df_sales_jan.columns)\n",
    "\n",
    "# Ver tipos de datos\n",
    "print(df_sales_jan.schema)\n",
    "\n"
   ]
  },
  {
   "cell_type": "code",
   "execution_count": 11,
   "id": "90cb0df0",
   "metadata": {},
   "outputs": [
    {
     "name": "stdout",
     "output_type": "stream",
     "text": [
      "shape: (9, 7)\n",
      "┌────────────┬───────────┬────────────┬─────────────┬──────────┬─────────────────┬─────────────┐\n",
      "│ statistic  ┆ id_venta  ┆ fecha      ┆ id_producto ┆ cantidad ┆ precio_unitario ┆ id_sucursal │\n",
      "│ ---        ┆ ---       ┆ ---        ┆ ---         ┆ ---      ┆ ---             ┆ ---         │\n",
      "│ str        ┆ f64       ┆ str        ┆ str         ┆ f64      ┆ f64             ┆ str         │\n",
      "╞════════════╪═══════════╪════════════╪═════════════╪══════════╪═════════════════╪═════════════╡\n",
      "│ count      ┆ 100.0     ┆ 100        ┆ 100         ┆ 100.0    ┆ 100.0           ┆ 100         │\n",
      "│ null_count ┆ 0.0       ┆ 0          ┆ 0           ┆ 0.0      ┆ 0.0             ┆ 0           │\n",
      "│ mean       ┆ 150.5     ┆ null       ┆ null        ┆ 2.8      ┆ 151.5           ┆ null        │\n",
      "│ std        ┆ 29.011492 ┆ null       ┆ null        ┆ 1.428427 ┆ 111.340546      ┆ null        │\n",
      "│ min        ┆ 101.0     ┆ 2024-02-01 ┆ P001        ┆ 1.0      ┆ 50.0            ┆ S001        │\n",
      "│ 25%        ┆ 126.0     ┆ null       ┆ null        ┆ 2.0      ┆ 50.0            ┆ null        │\n",
      "│ 50%        ┆ 151.0     ┆ null       ┆ null        ┆ 3.0      ┆ 100.0           ┆ null        │\n",
      "│ 75%        ┆ 175.0     ┆ null       ┆ null        ┆ 4.0      ┆ 300.0           ┆ null        │\n",
      "│ max        ┆ 200.0     ┆ 2024-02-28 ┆ P020        ┆ 5.0      ┆ 300.0           ┆ S002        │\n",
      "└────────────┴───────────┴────────────┴─────────────┴──────────┴─────────────────┴─────────────┘\n",
      "['id_venta', 'fecha', 'id_producto', 'cantidad', 'precio_unitario', 'id_sucursal']\n",
      "Schema([('id_venta', Int64), ('fecha', String), ('id_producto', String), ('cantidad', Int64), ('precio_unitario', Int64), ('id_sucursal', String)])\n"
     ]
    }
   ],
   "source": [
    "excel_path = Path(\"data/raw/ventas_febrero.xlsx\")\n",
    "csv_path = Path(\"data/processed/ventas_febrero.csv\")\n",
    "\n",
    "# Convertir Excel a CSV solo si no existe el CSV\n",
    "if not csv_path.exists():\n",
    "    df_xlsx = pd.read_excel(excel_path)\n",
    "    df_xlsx.to_csv(csv_path, index=False)\n",
    "\n",
    "# Ahora leemos polars\n",
    "df_sales_feb = pl.read_csv(csv_path)\n",
    "\n",
    "\n",
    "# Información básica\n",
    "print(df_sales_feb.describe())\n",
    "\n",
    "# Columnas\n",
    "print(df_sales_feb.columns)\n",
    "\n",
    "# Ver tipos de datos\n",
    "print(df_sales_feb.schema)\n",
    "\n"
   ]
  },
  {
   "cell_type": "code",
   "execution_count": null,
   "id": "bc079526",
   "metadata": {},
   "outputs": [
    {
     "data": {
      "text/html": [
       "<div><style>\n",
       ".dataframe > thead > tr,\n",
       ".dataframe > tbody > tr {\n",
       "  text-align: right;\n",
       "  white-space: pre-wrap;\n",
       "}\n",
       "</style>\n",
       "<small>shape: (200, 6)</small><table border=\"1\" class=\"dataframe\"><thead><tr><th>id_venta</th><th>fecha</th><th>id_producto</th><th>cantidad</th><th>precio_unitario</th><th>id_sucursal</th></tr><tr><td>i64</td><td>str</td><td>str</td><td>i64</td><td>i64</td><td>str</td></tr></thead><tbody><tr><td>1</td><td>&quot;2024-01-07&quot;</td><td>&quot;P020&quot;</td><td>1</td><td>50</td><td>&quot;S001&quot;</td></tr><tr><td>2</td><td>&quot;2024-01-20&quot;</td><td>&quot;P019&quot;</td><td>4</td><td>100</td><td>&quot;S002&quot;</td></tr><tr><td>3</td><td>&quot;2024-01-15&quot;</td><td>&quot;P019&quot;</td><td>5</td><td>100</td><td>&quot;S001&quot;</td></tr><tr><td>4</td><td>&quot;2024-01-11&quot;</td><td>&quot;P002&quot;</td><td>1</td><td>300</td><td>&quot;S002&quot;</td></tr><tr><td>5</td><td>&quot;2024-01-08&quot;</td><td>&quot;P013&quot;</td><td>3</td><td>300</td><td>&quot;S001&quot;</td></tr><tr><td>&hellip;</td><td>&hellip;</td><td>&hellip;</td><td>&hellip;</td><td>&hellip;</td><td>&hellip;</td></tr><tr><td>196</td><td>&quot;2024-02-07&quot;</td><td>&quot;P012&quot;</td><td>2</td><td>100</td><td>&quot;S002&quot;</td></tr><tr><td>197</td><td>&quot;2024-02-17&quot;</td><td>&quot;P009&quot;</td><td>4</td><td>100</td><td>&quot;S002&quot;</td></tr><tr><td>198</td><td>&quot;2024-02-17&quot;</td><td>&quot;P008&quot;</td><td>1</td><td>50</td><td>&quot;S002&quot;</td></tr><tr><td>199</td><td>&quot;2024-02-13&quot;</td><td>&quot;P016&quot;</td><td>5</td><td>50</td><td>&quot;S001&quot;</td></tr><tr><td>200</td><td>&quot;2024-02-15&quot;</td><td>&quot;P019&quot;</td><td>3</td><td>50</td><td>&quot;S001&quot;</td></tr></tbody></table></div>"
      ],
      "text/plain": [
       "shape: (200, 6)\n",
       "┌──────────┬────────────┬─────────────┬──────────┬─────────────────┬─────────────┐\n",
       "│ id_venta ┆ fecha      ┆ id_producto ┆ cantidad ┆ precio_unitario ┆ id_sucursal │\n",
       "│ ---      ┆ ---        ┆ ---         ┆ ---      ┆ ---             ┆ ---         │\n",
       "│ i64      ┆ str        ┆ str         ┆ i64      ┆ i64             ┆ str         │\n",
       "╞══════════╪════════════╪═════════════╪══════════╪═════════════════╪═════════════╡\n",
       "│ 1        ┆ 2024-01-07 ┆ P020        ┆ 1        ┆ 50              ┆ S001        │\n",
       "│ 2        ┆ 2024-01-20 ┆ P019        ┆ 4        ┆ 100             ┆ S002        │\n",
       "│ 3        ┆ 2024-01-15 ┆ P019        ┆ 5        ┆ 100             ┆ S001        │\n",
       "│ 4        ┆ 2024-01-11 ┆ P002        ┆ 1        ┆ 300             ┆ S002        │\n",
       "│ 5        ┆ 2024-01-08 ┆ P013        ┆ 3        ┆ 300             ┆ S001        │\n",
       "│ …        ┆ …          ┆ …           ┆ …        ┆ …               ┆ …           │\n",
       "│ 196      ┆ 2024-02-07 ┆ P012        ┆ 2        ┆ 100             ┆ S002        │\n",
       "│ 197      ┆ 2024-02-17 ┆ P009        ┆ 4        ┆ 100             ┆ S002        │\n",
       "│ 198      ┆ 2024-02-17 ┆ P008        ┆ 1        ┆ 50              ┆ S002        │\n",
       "│ 199      ┆ 2024-02-13 ┆ P016        ┆ 5        ┆ 50              ┆ S001        │\n",
       "│ 200      ┆ 2024-02-15 ┆ P019        ┆ 3        ┆ 50              ┆ S001        │\n",
       "└──────────┴────────────┴─────────────┴──────────┴─────────────────┴─────────────┘"
      ]
     },
     "execution_count": 13,
     "metadata": {},
     "output_type": "execute_result"
    }
   ],
   "source": [
    "df_sales = df_sales_jan.vstack(df_sales_feb)\n",
    "df_sales"
   ]
  },
  {
   "cell_type": "code",
   "execution_count": 14,
   "id": "825e8efa",
   "metadata": {},
   "outputs": [],
   "source": [
    "df_sales.write_csv(\"data/processed/sales.csv\")"
   ]
  },
  {
   "cell_type": "code",
   "execution_count": 15,
   "id": "74891676",
   "metadata": {},
   "outputs": [
    {
     "name": "stdout",
     "output_type": "stream",
     "text": [
      "📐 Dimensiones del DataFrame:\n",
      "Filas: 200, Columnas: 6\n",
      "\n",
      "🧱 Columnas y tipos:\n",
      "[Int64, String, String, Int64, Int64, String]\n",
      "\n",
      "🔎 Primeras filas:\n",
      "shape: (5, 6)\n",
      "┌──────────┬────────────┬─────────────┬──────────┬─────────────────┬─────────────┐\n",
      "│ id_venta ┆ fecha      ┆ id_producto ┆ cantidad ┆ precio_unitario ┆ id_sucursal │\n",
      "│ ---      ┆ ---        ┆ ---         ┆ ---      ┆ ---             ┆ ---         │\n",
      "│ i64      ┆ str        ┆ str         ┆ i64      ┆ i64             ┆ str         │\n",
      "╞══════════╪════════════╪═════════════╪══════════╪═════════════════╪═════════════╡\n",
      "│ 1        ┆ 2024-01-07 ┆ P020        ┆ 1        ┆ 50              ┆ S001        │\n",
      "│ 2        ┆ 2024-01-20 ┆ P019        ┆ 4        ┆ 100             ┆ S002        │\n",
      "│ 3        ┆ 2024-01-15 ┆ P019        ┆ 5        ┆ 100             ┆ S001        │\n",
      "│ 4        ┆ 2024-01-11 ┆ P002        ┆ 1        ┆ 300             ┆ S002        │\n",
      "│ 5        ┆ 2024-01-08 ┆ P013        ┆ 3        ┆ 300             ┆ S001        │\n",
      "└──────────┴────────────┴─────────────┴──────────┴─────────────────┴─────────────┘ \n",
      "\n",
      "❓ Valores nulos por columna:\n",
      "shape: (1, 6)\n",
      "┌──────────┬───────┬─────────────┬──────────┬─────────────────┬─────────────┐\n",
      "│ id_venta ┆ fecha ┆ id_producto ┆ cantidad ┆ precio_unitario ┆ id_sucursal │\n",
      "│ ---      ┆ ---   ┆ ---         ┆ ---      ┆ ---             ┆ ---         │\n",
      "│ u32      ┆ u32   ┆ u32         ┆ u32      ┆ u32             ┆ u32         │\n",
      "╞══════════╪═══════╪═════════════╪══════════╪═════════════════╪═════════════╡\n",
      "│ 0        ┆ 0     ┆ 0           ┆ 0        ┆ 0               ┆ 0           │\n",
      "└──────────┴───────┴─────────────┴──────────┴─────────────────┴─────────────┘ \n",
      "\n",
      "📊 Estadísticas básicas:\n",
      "shape: (9, 7)\n",
      "┌────────────┬───────────┬────────────┬─────────────┬──────────┬─────────────────┬─────────────┐\n",
      "│ statistic  ┆ id_venta  ┆ fecha      ┆ id_producto ┆ cantidad ┆ precio_unitario ┆ id_sucursal │\n",
      "│ ---        ┆ ---       ┆ ---        ┆ ---         ┆ ---      ┆ ---             ┆ ---         │\n",
      "│ str        ┆ f64       ┆ str        ┆ str         ┆ f64      ┆ f64             ┆ str         │\n",
      "╞════════════╪═══════════╪════════════╪═════════════╪══════════╪═════════════════╪═════════════╡\n",
      "│ count      ┆ 200.0     ┆ 200        ┆ 200         ┆ 200.0    ┆ 200.0           ┆ 200         │\n",
      "│ null_count ┆ 0.0       ┆ 0          ┆ 0           ┆ 0.0      ┆ 0.0             ┆ 0           │\n",
      "│ mean       ┆ 100.5     ┆ null       ┆ null        ┆ 2.75     ┆ 153.25          ┆ null        │\n",
      "│ std        ┆ 57.879185 ┆ null       ┆ null        ┆ 1.388213 ┆ 109.828269      ┆ null        │\n",
      "│ min        ┆ 1.0       ┆ 2024-01-01 ┆ P001        ┆ 1.0      ┆ 50.0            ┆ S001        │\n",
      "│ 25%        ┆ 51.0      ┆ null       ┆ null        ┆ 1.0      ┆ 50.0            ┆ null        │\n",
      "│ 50%        ┆ 101.0     ┆ null       ┆ null        ┆ 3.0      ┆ 100.0           ┆ null        │\n",
      "│ 75%        ┆ 150.0     ┆ null       ┆ null        ┆ 4.0      ┆ 300.0           ┆ null        │\n",
      "│ max        ┆ 200.0     ┆ 2024-02-28 ┆ P020        ┆ 5.0      ┆ 300.0           ┆ S002        │\n",
      "└────────────┴───────────┴────────────┴─────────────┴──────────┴─────────────────┴─────────────┘ \n",
      "\n",
      "🔁 Duplicados (filas completas):\n",
      "0 duplicados encontrados\n",
      "\n",
      "🔤 Valores únicos por columna de tipo string:\n",
      "- fecha: 53 únicos\n",
      "  Ejemplo: shape: (5,)\n",
      "Series: 'fecha' [str]\n",
      "[\n",
      "\t\"2024-01-01\"\n",
      "\t\"2024-01-02\"\n",
      "\t\"2024-01-03\"\n",
      "\t\"2024-01-04\"\n",
      "\t\"2024-01-05\"\n",
      "]\n",
      "\n",
      "- id_producto: 20 únicos\n",
      "  Ejemplo: shape: (5,)\n",
      "Series: 'id_producto' [str]\n",
      "[\n",
      "\t\"P001\"\n",
      "\t\"P002\"\n",
      "\t\"P003\"\n",
      "\t\"P004\"\n",
      "\t\"P005\"\n",
      "]\n",
      "\n",
      "- id_sucursal: 2 únicos\n",
      "  Ejemplo: shape: (2,)\n",
      "Series: 'id_sucursal' [str]\n",
      "[\n",
      "\t\"S001\"\n",
      "\t\"S002\"\n",
      "]\n",
      "\n",
      "📅 Columna 'fecha' convertida a fecha. Rango:\n",
      "2024-01-01 → 2024-02-28\n",
      "\n"
     ]
    }
   ],
   "source": [
    "from utils.validation import validar_df_polars\n",
    "\n",
    "validar_df_polars(df_sales, columnas_fecha=[\"fecha\"])\n"
   ]
  },
  {
   "cell_type": "code",
   "execution_count": null,
   "id": "385f4460",
   "metadata": {},
   "outputs": [
    {
     "ename": "SchemaError",
     "evalue": "invalid series dtype: expected `String`, got `date` for series with name `fecha`",
     "output_type": "error",
     "traceback": [
      "\u001b[0;31m---------------------------------------------------------------------------\u001b[0m",
      "\u001b[0;31mSchemaError\u001b[0m                               Traceback (most recent call last)",
      "Cell \u001b[0;32mIn[21], line 1\u001b[0m\n\u001b[0;32m----> 1\u001b[0m df_sales \u001b[38;5;241m=\u001b[39m \u001b[43mdf_sales\u001b[49m\u001b[38;5;241;43m.\u001b[39;49m\u001b[43mwith_columns\u001b[49m\u001b[43m(\u001b[49m\u001b[43mpl\u001b[49m\u001b[38;5;241;43m.\u001b[39;49m\u001b[43mcol\u001b[49m\u001b[43m(\u001b[49m\u001b[38;5;124;43m\"\u001b[39;49m\u001b[38;5;124;43mfecha\u001b[39;49m\u001b[38;5;124;43m\"\u001b[39;49m\u001b[43m)\u001b[49m\u001b[38;5;241;43m.\u001b[39;49m\u001b[43mstr\u001b[49m\u001b[38;5;241;43m.\u001b[39;49m\u001b[43mstrptime\u001b[49m\u001b[43m(\u001b[49m\u001b[43mpl\u001b[49m\u001b[38;5;241;43m.\u001b[39;49m\u001b[43mDate\u001b[49m\u001b[43m,\u001b[49m\u001b[43m \u001b[49m\u001b[38;5;124;43m\"\u001b[39;49m\u001b[38;5;124;43m%\u001b[39;49m\u001b[38;5;124;43mY-\u001b[39;49m\u001b[38;5;124;43m%\u001b[39;49m\u001b[38;5;124;43mm-\u001b[39;49m\u001b[38;5;132;43;01m%d\u001b[39;49;00m\u001b[38;5;124;43m\"\u001b[39;49m\u001b[43m)\u001b[49m\u001b[38;5;241;43m.\u001b[39;49m\u001b[43malias\u001b[49m\u001b[43m(\u001b[49m\u001b[38;5;124;43m\"\u001b[39;49m\u001b[38;5;124;43mfecha\u001b[39;49m\u001b[38;5;124;43m\"\u001b[39;49m\u001b[43m)\u001b[49m\u001b[43m)\u001b[49m\n\u001b[1;32m      2\u001b[0m df_sales \u001b[38;5;241m=\u001b[39m df_sales\u001b[38;5;241m.\u001b[39mdrop(\u001b[38;5;124m'\u001b[39m\u001b[38;5;124mDate\u001b[39m\u001b[38;5;124m'\u001b[39m)\n",
      "File \u001b[0;32m~/Documents/ETL_project/venv-etl/lib/python3.10/site-packages/polars/dataframe/frame.py:10016\u001b[0m, in \u001b[0;36mDataFrame.with_columns\u001b[0;34m(self, *exprs, **named_exprs)\u001b[0m\n\u001b[1;32m   9872\u001b[0m \u001b[38;5;250m\u001b[39m\u001b[38;5;124;03m\"\"\"\u001b[39;00m\n\u001b[1;32m   9873\u001b[0m \u001b[38;5;124;03mAdd columns to this DataFrame.\u001b[39;00m\n\u001b[1;32m   9874\u001b[0m \n\u001b[0;32m   (...)\u001b[0m\n\u001b[1;32m  10011\u001b[0m \u001b[38;5;124;03m└─────┴──────┴─────────────┘\u001b[39;00m\n\u001b[1;32m  10012\u001b[0m \u001b[38;5;124;03m\"\"\"\u001b[39;00m\n\u001b[1;32m  10013\u001b[0m \u001b[38;5;28;01mfrom\u001b[39;00m\u001b[38;5;250m \u001b[39m\u001b[38;5;21;01mpolars\u001b[39;00m\u001b[38;5;21;01m.\u001b[39;00m\u001b[38;5;21;01mlazyframe\u001b[39;00m\u001b[38;5;21;01m.\u001b[39;00m\u001b[38;5;21;01mopt_flags\u001b[39;00m\u001b[38;5;250m \u001b[39m\u001b[38;5;28;01mimport\u001b[39;00m QueryOptFlags\n\u001b[1;32m  10015\u001b[0m \u001b[38;5;28;01mreturn\u001b[39;00m (\n\u001b[0;32m> 10016\u001b[0m     \u001b[38;5;28;43mself\u001b[39;49m\u001b[38;5;241;43m.\u001b[39;49m\u001b[43mlazy\u001b[49m\u001b[43m(\u001b[49m\u001b[43m)\u001b[49m\n\u001b[1;32m  10017\u001b[0m \u001b[43m    \u001b[49m\u001b[38;5;241;43m.\u001b[39;49m\u001b[43mwith_columns\u001b[49m\u001b[43m(\u001b[49m\u001b[38;5;241;43m*\u001b[39;49m\u001b[43mexprs\u001b[49m\u001b[43m,\u001b[49m\u001b[43m \u001b[49m\u001b[38;5;241;43m*\u001b[39;49m\u001b[38;5;241;43m*\u001b[39;49m\u001b[43mnamed_exprs\u001b[49m\u001b[43m)\u001b[49m\n\u001b[1;32m  10018\u001b[0m \u001b[43m    \u001b[49m\u001b[38;5;241;43m.\u001b[39;49m\u001b[43mcollect\u001b[49m\u001b[43m(\u001b[49m\u001b[43moptimizations\u001b[49m\u001b[38;5;241;43m=\u001b[39;49m\u001b[43mQueryOptFlags\u001b[49m\u001b[38;5;241;43m.\u001b[39;49m\u001b[43m_eager\u001b[49m\u001b[43m(\u001b[49m\u001b[43m)\u001b[49m\u001b[43m)\u001b[49m\n\u001b[1;32m  10019\u001b[0m )\n",
      "File \u001b[0;32m~/Documents/ETL_project/venv-etl/lib/python3.10/site-packages/polars/_utils/deprecation.py:97\u001b[0m, in \u001b[0;36mdeprecate_streaming_parameter.<locals>.decorate.<locals>.wrapper\u001b[0;34m(*args, **kwargs)\u001b[0m\n\u001b[1;32m     93\u001b[0m         kwargs[\u001b[38;5;124m\"\u001b[39m\u001b[38;5;124mengine\u001b[39m\u001b[38;5;124m\"\u001b[39m] \u001b[38;5;241m=\u001b[39m \u001b[38;5;124m\"\u001b[39m\u001b[38;5;124min-memory\u001b[39m\u001b[38;5;124m\"\u001b[39m\n\u001b[1;32m     95\u001b[0m     \u001b[38;5;28;01mdel\u001b[39;00m kwargs[\u001b[38;5;124m\"\u001b[39m\u001b[38;5;124mstreaming\u001b[39m\u001b[38;5;124m\"\u001b[39m]\n\u001b[0;32m---> 97\u001b[0m \u001b[38;5;28;01mreturn\u001b[39;00m \u001b[43mfunction\u001b[49m\u001b[43m(\u001b[49m\u001b[38;5;241;43m*\u001b[39;49m\u001b[43margs\u001b[49m\u001b[43m,\u001b[49m\u001b[43m \u001b[49m\u001b[38;5;241;43m*\u001b[39;49m\u001b[38;5;241;43m*\u001b[39;49m\u001b[43mkwargs\u001b[49m\u001b[43m)\u001b[49m\n",
      "File \u001b[0;32m~/Documents/ETL_project/venv-etl/lib/python3.10/site-packages/polars/lazyframe/opt_flags.py:330\u001b[0m, in \u001b[0;36mforward_old_opt_flags.<locals>.decorate.<locals>.wrapper\u001b[0;34m(*args, **kwargs)\u001b[0m\n\u001b[1;32m    327\u001b[0m         optflags \u001b[38;5;241m=\u001b[39m cb(optflags, kwargs\u001b[38;5;241m.\u001b[39mpop(key))  \u001b[38;5;66;03m# type: ignore[no-untyped-call,unused-ignore]\u001b[39;00m\n\u001b[1;32m    329\u001b[0m kwargs[\u001b[38;5;124m\"\u001b[39m\u001b[38;5;124moptimizations\u001b[39m\u001b[38;5;124m\"\u001b[39m] \u001b[38;5;241m=\u001b[39m optflags\n\u001b[0;32m--> 330\u001b[0m \u001b[38;5;28;01mreturn\u001b[39;00m \u001b[43mfunction\u001b[49m\u001b[43m(\u001b[49m\u001b[38;5;241;43m*\u001b[39;49m\u001b[43margs\u001b[49m\u001b[43m,\u001b[49m\u001b[43m \u001b[49m\u001b[38;5;241;43m*\u001b[39;49m\u001b[38;5;241;43m*\u001b[39;49m\u001b[43mkwargs\u001b[49m\u001b[43m)\u001b[49m\n",
      "File \u001b[0;32m~/Documents/ETL_project/venv-etl/lib/python3.10/site-packages/polars/lazyframe/frame.py:2332\u001b[0m, in \u001b[0;36mLazyFrame.collect\u001b[0;34m(self, type_coercion, predicate_pushdown, projection_pushdown, simplify_expression, slice_pushdown, comm_subplan_elim, comm_subexpr_elim, cluster_with_columns, collapse_joins, no_optimization, engine, background, optimizations, **_kwargs)\u001b[0m\n\u001b[1;32m   2330\u001b[0m \u001b[38;5;66;03m# Only for testing purposes\u001b[39;00m\n\u001b[1;32m   2331\u001b[0m callback \u001b[38;5;241m=\u001b[39m _kwargs\u001b[38;5;241m.\u001b[39mget(\u001b[38;5;124m\"\u001b[39m\u001b[38;5;124mpost_opt_callback\u001b[39m\u001b[38;5;124m\"\u001b[39m, callback)\n\u001b[0;32m-> 2332\u001b[0m \u001b[38;5;28;01mreturn\u001b[39;00m wrap_df(\u001b[43mldf\u001b[49m\u001b[38;5;241;43m.\u001b[39;49m\u001b[43mcollect\u001b[49m\u001b[43m(\u001b[49m\u001b[43mengine\u001b[49m\u001b[43m,\u001b[49m\u001b[43m \u001b[49m\u001b[43mcallback\u001b[49m\u001b[43m)\u001b[49m)\n",
      "\u001b[0;31mSchemaError\u001b[0m: invalid series dtype: expected `String`, got `date` for series with name `fecha`"
     ]
    }
   ],
   "source": [
    "df_sales = df_sales.with_columns(pl.col(\"fecha\").str.strptime(pl.Date, \"%Y-%m-%d\").alias(\"fecha\"))\n"
   ]
  },
  {
   "cell_type": "code",
   "execution_count": 22,
   "id": "ff0053e1",
   "metadata": {},
   "outputs": [],
   "source": [
    "df_sales = df_sales.drop('Date')"
   ]
  },
  {
   "cell_type": "code",
   "execution_count": 23,
   "id": "e9ff479f",
   "metadata": {},
   "outputs": [
    {
     "name": "stdout",
     "output_type": "stream",
     "text": [
      "📐 Dimensiones del DataFrame:\n",
      "Filas: 200, Columnas: 6\n",
      "\n",
      "🧱 Columnas y tipos:\n",
      "[Int64, Date, String, Int64, Int64, String]\n",
      "\n",
      "🔎 Primeras filas:\n",
      "shape: (5, 6)\n",
      "┌──────────┬────────────┬─────────────┬──────────┬─────────────────┬─────────────┐\n",
      "│ id_venta ┆ fecha      ┆ id_producto ┆ cantidad ┆ precio_unitario ┆ id_sucursal │\n",
      "│ ---      ┆ ---        ┆ ---         ┆ ---      ┆ ---             ┆ ---         │\n",
      "│ i64      ┆ date       ┆ str         ┆ i64      ┆ i64             ┆ str         │\n",
      "╞══════════╪════════════╪═════════════╪══════════╪═════════════════╪═════════════╡\n",
      "│ 1        ┆ 2024-01-07 ┆ P020        ┆ 1        ┆ 50              ┆ S001        │\n",
      "│ 2        ┆ 2024-01-20 ┆ P019        ┆ 4        ┆ 100             ┆ S002        │\n",
      "│ 3        ┆ 2024-01-15 ┆ P019        ┆ 5        ┆ 100             ┆ S001        │\n",
      "│ 4        ┆ 2024-01-11 ┆ P002        ┆ 1        ┆ 300             ┆ S002        │\n",
      "│ 5        ┆ 2024-01-08 ┆ P013        ┆ 3        ┆ 300             ┆ S001        │\n",
      "└──────────┴────────────┴─────────────┴──────────┴─────────────────┴─────────────┘ \n",
      "\n",
      "❓ Valores nulos por columna:\n",
      "shape: (1, 6)\n",
      "┌──────────┬───────┬─────────────┬──────────┬─────────────────┬─────────────┐\n",
      "│ id_venta ┆ fecha ┆ id_producto ┆ cantidad ┆ precio_unitario ┆ id_sucursal │\n",
      "│ ---      ┆ ---   ┆ ---         ┆ ---      ┆ ---             ┆ ---         │\n",
      "│ u32      ┆ u32   ┆ u32         ┆ u32      ┆ u32             ┆ u32         │\n",
      "╞══════════╪═══════╪═════════════╪══════════╪═════════════════╪═════════════╡\n",
      "│ 0        ┆ 0     ┆ 0           ┆ 0        ┆ 0               ┆ 0           │\n",
      "└──────────┴───────┴─────────────┴──────────┴─────────────────┴─────────────┘ \n",
      "\n",
      "📊 Estadísticas básicas:\n",
      "shape: (9, 7)\n",
      "┌────────────┬───────────┬────────────┬─────────────┬──────────┬─────────────────┬─────────────┐\n",
      "│ statistic  ┆ id_venta  ┆ fecha      ┆ id_producto ┆ cantidad ┆ precio_unitario ┆ id_sucursal │\n",
      "│ ---        ┆ ---       ┆ ---        ┆ ---         ┆ ---      ┆ ---             ┆ ---         │\n",
      "│ str        ┆ f64       ┆ str        ┆ str         ┆ f64      ┆ f64             ┆ str         │\n",
      "╞════════════╪═══════════╪════════════╪═════════════╪══════════╪═════════════════╪═════════════╡\n",
      "│ count      ┆ 200.0     ┆ 200        ┆ 200         ┆ 200.0    ┆ 200.0           ┆ 200         │\n",
      "│ null_count ┆ 0.0       ┆ 0          ┆ 0           ┆ 0.0      ┆ 0.0             ┆ 0           │\n",
      "│ mean       ┆ 100.5     ┆ 2024-01-30 ┆ null        ┆ 2.75     ┆ 153.25          ┆ null        │\n",
      "│            ┆           ┆ 18:00:00   ┆             ┆          ┆                 ┆             │\n",
      "│ std        ┆ 57.879185 ┆ null       ┆ null        ┆ 1.388213 ┆ 109.828269      ┆ null        │\n",
      "│ min        ┆ 1.0       ┆ 2024-01-01 ┆ P001        ┆ 1.0      ┆ 50.0            ┆ S001        │\n",
      "│ 25%        ┆ 51.0      ┆ 2024-01-15 ┆ null        ┆ 1.0      ┆ 50.0            ┆ null        │\n",
      "│ 50%        ┆ 101.0     ┆ 2024-02-01 ┆ null        ┆ 3.0      ┆ 100.0           ┆ null        │\n",
      "│ 75%        ┆ 150.0     ┆ 2024-02-17 ┆ null        ┆ 4.0      ┆ 300.0           ┆ null        │\n",
      "│ max        ┆ 200.0     ┆ 2024-02-28 ┆ P020        ┆ 5.0      ┆ 300.0           ┆ S002        │\n",
      "└────────────┴───────────┴────────────┴─────────────┴──────────┴─────────────────┴─────────────┘ \n",
      "\n",
      "🔁 Duplicados (filas completas):\n",
      "0 duplicados encontrados\n",
      "\n",
      "🔤 Valores únicos por columna de tipo string:\n",
      "- id_producto: 20 únicos\n",
      "  Ejemplo: shape: (5,)\n",
      "Series: 'id_producto' [str]\n",
      "[\n",
      "\t\"P001\"\n",
      "\t\"P002\"\n",
      "\t\"P003\"\n",
      "\t\"P004\"\n",
      "\t\"P005\"\n",
      "]\n",
      "\n",
      "- id_sucursal: 2 únicos\n",
      "  Ejemplo: shape: (2,)\n",
      "Series: 'id_sucursal' [str]\n",
      "[\n",
      "\t\"S001\"\n",
      "\t\"S002\"\n",
      "]\n",
      "\n",
      "⚠️ No se pudo convertir 'fecha' a fecha: invalid series dtype: expected `String`, got `date` for series with name `fecha`\n",
      "\n"
     ]
    }
   ],
   "source": [
    "from utils.validation import validar_df_polars\n",
    "\n",
    "validar_df_polars(df_sales, columnas_fecha=[\"fecha\"])\n"
   ]
  },
  {
   "cell_type": "code",
   "execution_count": 24,
   "id": "53766900",
   "metadata": {},
   "outputs": [
    {
     "data": {
      "text/html": [
       "<div><style>\n",
       ".dataframe > thead > tr,\n",
       ".dataframe > tbody > tr {\n",
       "  text-align: right;\n",
       "  white-space: pre-wrap;\n",
       "}\n",
       "</style>\n",
       "<small>shape: (20, 4)</small><table border=\"1\" class=\"dataframe\"><thead><tr><th>id_producto</th><th>nombre</th><th>categoría</th><th>proveedor</th></tr><tr><td>str</td><td>str</td><td>str</td><td>str</td></tr></thead><tbody><tr><td>&quot;P001&quot;</td><td>&quot;Producto_1&quot;</td><td>&quot;Ropa&quot;</td><td>&quot;ModaPlus&quot;</td></tr><tr><td>&quot;P002&quot;</td><td>&quot;Producto_2&quot;</td><td>&quot;Deportes&quot;</td><td>&quot;StepSport&quot;</td></tr><tr><td>&quot;P003&quot;</td><td>&quot;Producto_3&quot;</td><td>&quot;Calzado&quot;</td><td>&quot;StepSport&quot;</td></tr><tr><td>&quot;P004&quot;</td><td>&quot;Producto_4&quot;</td><td>&quot;Calzado&quot;</td><td>&quot;TextilSur&quot;</td></tr><tr><td>&quot;P005&quot;</td><td>&quot;Producto_5&quot;</td><td>&quot;Deportes&quot;</td><td>&quot;ModaPlus&quot;</td></tr><tr><td>&hellip;</td><td>&hellip;</td><td>&hellip;</td><td>&hellip;</td></tr><tr><td>&quot;P016&quot;</td><td>&quot;Producto_16&quot;</td><td>&quot;Calzado&quot;</td><td>&quot;FríoPolar&quot;</td></tr><tr><td>&quot;P017&quot;</td><td>&quot;Producto_17&quot;</td><td>&quot;Deportes&quot;</td><td>&quot;TextilSur&quot;</td></tr><tr><td>&quot;P018&quot;</td><td>&quot;Producto_18&quot;</td><td>&quot;Deportes&quot;</td><td>&quot;DeportesYA&quot;</td></tr><tr><td>&quot;P019&quot;</td><td>&quot;Producto_19&quot;</td><td>&quot;Deportes&quot;</td><td>&quot;ModaPlus&quot;</td></tr><tr><td>&quot;P020&quot;</td><td>&quot;Producto_20&quot;</td><td>&quot;Deportes&quot;</td><td>&quot;TextilSur&quot;</td></tr></tbody></table></div>"
      ],
      "text/plain": [
       "shape: (20, 4)\n",
       "┌─────────────┬─────────────┬───────────┬────────────┐\n",
       "│ id_producto ┆ nombre      ┆ categoría ┆ proveedor  │\n",
       "│ ---         ┆ ---         ┆ ---       ┆ ---        │\n",
       "│ str         ┆ str         ┆ str       ┆ str        │\n",
       "╞═════════════╪═════════════╪═══════════╪════════════╡\n",
       "│ P001        ┆ Producto_1  ┆ Ropa      ┆ ModaPlus   │\n",
       "│ P002        ┆ Producto_2  ┆ Deportes  ┆ StepSport  │\n",
       "│ P003        ┆ Producto_3  ┆ Calzado   ┆ StepSport  │\n",
       "│ P004        ┆ Producto_4  ┆ Calzado   ┆ TextilSur  │\n",
       "│ P005        ┆ Producto_5  ┆ Deportes  ┆ ModaPlus   │\n",
       "│ …           ┆ …           ┆ …         ┆ …          │\n",
       "│ P016        ┆ Producto_16 ┆ Calzado   ┆ FríoPolar  │\n",
       "│ P017        ┆ Producto_17 ┆ Deportes  ┆ TextilSur  │\n",
       "│ P018        ┆ Producto_18 ┆ Deportes  ┆ DeportesYA │\n",
       "│ P019        ┆ Producto_19 ┆ Deportes  ┆ ModaPlus   │\n",
       "│ P020        ┆ Producto_20 ┆ Deportes  ┆ TextilSur  │\n",
       "└─────────────┴─────────────┴───────────┴────────────┘"
      ]
     },
     "execution_count": 24,
     "metadata": {},
     "output_type": "execute_result"
    }
   ],
   "source": [
    "df_prod"
   ]
  },
  {
   "cell_type": "code",
   "execution_count": 35,
   "id": "4de4c1b9",
   "metadata": {},
   "outputs": [
    {
     "data": {
      "text/html": [
       "<div><style>\n",
       ".dataframe > thead > tr,\n",
       ".dataframe > tbody > tr {\n",
       "  text-align: right;\n",
       "  white-space: pre-wrap;\n",
       "}\n",
       "</style>\n",
       "<small>shape: (200, 7)</small><table border=\"1\" class=\"dataframe\"><thead><tr><th>id_venta</th><th>fecha</th><th>id_producto</th><th>cantidad</th><th>precio_unitario</th><th>id_sucursal</th><th>nombre</th></tr><tr><td>i64</td><td>date</td><td>str</td><td>i64</td><td>i64</td><td>str</td><td>str</td></tr></thead><tbody><tr><td>1</td><td>2024-01-07</td><td>&quot;P020&quot;</td><td>1</td><td>50</td><td>&quot;S001&quot;</td><td>&quot;Producto_20&quot;</td></tr><tr><td>2</td><td>2024-01-20</td><td>&quot;P019&quot;</td><td>4</td><td>100</td><td>&quot;S002&quot;</td><td>&quot;Producto_19&quot;</td></tr><tr><td>3</td><td>2024-01-15</td><td>&quot;P019&quot;</td><td>5</td><td>100</td><td>&quot;S001&quot;</td><td>&quot;Producto_19&quot;</td></tr><tr><td>4</td><td>2024-01-11</td><td>&quot;P002&quot;</td><td>1</td><td>300</td><td>&quot;S002&quot;</td><td>&quot;Producto_2&quot;</td></tr><tr><td>5</td><td>2024-01-08</td><td>&quot;P013&quot;</td><td>3</td><td>300</td><td>&quot;S001&quot;</td><td>&quot;Producto_13&quot;</td></tr><tr><td>&hellip;</td><td>&hellip;</td><td>&hellip;</td><td>&hellip;</td><td>&hellip;</td><td>&hellip;</td><td>&hellip;</td></tr><tr><td>196</td><td>2024-02-07</td><td>&quot;P012&quot;</td><td>2</td><td>100</td><td>&quot;S002&quot;</td><td>&quot;Producto_12&quot;</td></tr><tr><td>197</td><td>2024-02-17</td><td>&quot;P009&quot;</td><td>4</td><td>100</td><td>&quot;S002&quot;</td><td>&quot;Producto_9&quot;</td></tr><tr><td>198</td><td>2024-02-17</td><td>&quot;P008&quot;</td><td>1</td><td>50</td><td>&quot;S002&quot;</td><td>&quot;Producto_8&quot;</td></tr><tr><td>199</td><td>2024-02-13</td><td>&quot;P016&quot;</td><td>5</td><td>50</td><td>&quot;S001&quot;</td><td>&quot;Producto_16&quot;</td></tr><tr><td>200</td><td>2024-02-15</td><td>&quot;P019&quot;</td><td>3</td><td>50</td><td>&quot;S001&quot;</td><td>&quot;Producto_19&quot;</td></tr></tbody></table></div>"
      ],
      "text/plain": [
       "shape: (200, 7)\n",
       "┌──────────┬────────────┬─────────────┬──────────┬─────────────────┬─────────────┬─────────────┐\n",
       "│ id_venta ┆ fecha      ┆ id_producto ┆ cantidad ┆ precio_unitario ┆ id_sucursal ┆ nombre      │\n",
       "│ ---      ┆ ---        ┆ ---         ┆ ---      ┆ ---             ┆ ---         ┆ ---         │\n",
       "│ i64      ┆ date       ┆ str         ┆ i64      ┆ i64             ┆ str         ┆ str         │\n",
       "╞══════════╪════════════╪═════════════╪══════════╪═════════════════╪═════════════╪═════════════╡\n",
       "│ 1        ┆ 2024-01-07 ┆ P020        ┆ 1        ┆ 50              ┆ S001        ┆ Producto_20 │\n",
       "│ 2        ┆ 2024-01-20 ┆ P019        ┆ 4        ┆ 100             ┆ S002        ┆ Producto_19 │\n",
       "│ 3        ┆ 2024-01-15 ┆ P019        ┆ 5        ┆ 100             ┆ S001        ┆ Producto_19 │\n",
       "│ 4        ┆ 2024-01-11 ┆ P002        ┆ 1        ┆ 300             ┆ S002        ┆ Producto_2  │\n",
       "│ 5        ┆ 2024-01-08 ┆ P013        ┆ 3        ┆ 300             ┆ S001        ┆ Producto_13 │\n",
       "│ …        ┆ …          ┆ …           ┆ …        ┆ …               ┆ …           ┆ …           │\n",
       "│ 196      ┆ 2024-02-07 ┆ P012        ┆ 2        ┆ 100             ┆ S002        ┆ Producto_12 │\n",
       "│ 197      ┆ 2024-02-17 ┆ P009        ┆ 4        ┆ 100             ┆ S002        ┆ Producto_9  │\n",
       "│ 198      ┆ 2024-02-17 ┆ P008        ┆ 1        ┆ 50              ┆ S002        ┆ Producto_8  │\n",
       "│ 199      ┆ 2024-02-13 ┆ P016        ┆ 5        ┆ 50              ┆ S001        ┆ Producto_16 │\n",
       "│ 200      ┆ 2024-02-15 ┆ P019        ┆ 3        ┆ 50              ┆ S001        ┆ Producto_19 │\n",
       "└──────────┴────────────┴─────────────┴──────────┴─────────────────┴─────────────┴─────────────┘"
      ]
     },
     "execution_count": 35,
     "metadata": {},
     "output_type": "execute_result"
    }
   ],
   "source": [
    "df_sales.join(df_prod, on='id_producto').select([*df_sales.columns, \"nombre\"])"
   ]
  }
 ],
 "metadata": {
  "kernelspec": {
   "display_name": "venv-etl",
   "language": "python",
   "name": "python3"
  },
  "language_info": {
   "codemirror_mode": {
    "name": "ipython",
    "version": 3
   },
   "file_extension": ".py",
   "mimetype": "text/x-python",
   "name": "python",
   "nbconvert_exporter": "python",
   "pygments_lexer": "ipython3",
   "version": "3.10.12"
  }
 },
 "nbformat": 4,
 "nbformat_minor": 5
}
