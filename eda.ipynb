{
 "cells": [
  {
   "cell_type": "code",
   "execution_count": 5,
   "id": "9158b398",
   "metadata": {},
   "outputs": [],
   "source": [
    "import polars as pl\n",
    "from pathlib import Path\n",
    "import pandas as pd #Only for converting to csv"
   ]
  },
  {
   "cell_type": "code",
   "execution_count": 7,
   "id": "7f290a06",
   "metadata": {},
   "outputs": [
    {
     "data": {
      "text/html": [
       "<div><style>\n",
       ".dataframe > thead > tr,\n",
       ".dataframe > tbody > tr {\n",
       "  text-align: right;\n",
       "  white-space: pre-wrap;\n",
       "}\n",
       "</style>\n",
       "<small>shape: (5, 4)</small><table border=\"1\" class=\"dataframe\"><thead><tr><th>id_producto</th><th>nombre</th><th>categoría</th><th>proveedor</th></tr><tr><td>str</td><td>str</td><td>str</td><td>str</td></tr></thead><tbody><tr><td>&quot;P001&quot;</td><td>&quot;Producto_1&quot;</td><td>&quot;Ropa&quot;</td><td>&quot;ModaPlus&quot;</td></tr><tr><td>&quot;P002&quot;</td><td>&quot;Producto_2&quot;</td><td>&quot;Deportes&quot;</td><td>&quot;StepSport&quot;</td></tr><tr><td>&quot;P003&quot;</td><td>&quot;Producto_3&quot;</td><td>&quot;Calzado&quot;</td><td>&quot;StepSport&quot;</td></tr><tr><td>&quot;P004&quot;</td><td>&quot;Producto_4&quot;</td><td>&quot;Calzado&quot;</td><td>&quot;TextilSur&quot;</td></tr><tr><td>&quot;P005&quot;</td><td>&quot;Producto_5&quot;</td><td>&quot;Deportes&quot;</td><td>&quot;ModaPlus&quot;</td></tr></tbody></table></div>"
      ],
      "text/plain": [
       "shape: (5, 4)\n",
       "┌─────────────┬────────────┬───────────┬───────────┐\n",
       "│ id_producto ┆ nombre     ┆ categoría ┆ proveedor │\n",
       "│ ---         ┆ ---        ┆ ---       ┆ ---       │\n",
       "│ str         ┆ str        ┆ str       ┆ str       │\n",
       "╞═════════════╪════════════╪═══════════╪═══════════╡\n",
       "│ P001        ┆ Producto_1 ┆ Ropa      ┆ ModaPlus  │\n",
       "│ P002        ┆ Producto_2 ┆ Deportes  ┆ StepSport │\n",
       "│ P003        ┆ Producto_3 ┆ Calzado   ┆ StepSport │\n",
       "│ P004        ┆ Producto_4 ┆ Calzado   ┆ TextilSur │\n",
       "│ P005        ┆ Producto_5 ┆ Deportes  ┆ ModaPlus  │\n",
       "└─────────────┴────────────┴───────────┴───────────┘"
      ]
     },
     "execution_count": 7,
     "metadata": {},
     "output_type": "execute_result"
    }
   ],
   "source": [
    "excel_path = Path(\"data/raw/productos.xlsx\")\n",
    "csv_path = Path(\"data/processed/productos.csv\")\n",
    "\n",
    "# Convertir Excel a CSV solo si no existe el CSV\n",
    "if not csv_path.exists():\n",
    "    df_xlsx = pd.read_excel(excel_path)\n",
    "    df_xlsx.to_csv(csv_path, index=False)\n",
    "\n",
    "# Ahora leemos con polars\n",
    "df = pl.read_csv(csv_path)\n",
    "df.head()\n"
   ]
  },
  {
   "cell_type": "code",
   "execution_count": 13,
   "id": "92a0a6a3",
   "metadata": {},
   "outputs": [
    {
     "name": "stdout",
     "output_type": "stream",
     "text": [
      "shape: (9, 5)\n",
      "┌────────────┬─────────────┬────────────┬────────────┬────────────┐\n",
      "│ statistic  ┆ id_producto ┆ nombre     ┆ categoría  ┆ proveedor  │\n",
      "│ ---        ┆ ---         ┆ ---        ┆ ---        ┆ ---        │\n",
      "│ str        ┆ str         ┆ str        ┆ str        ┆ str        │\n",
      "╞════════════╪═════════════╪════════════╪════════════╪════════════╡\n",
      "│ count      ┆ 20          ┆ 20         ┆ 20         ┆ 20         │\n",
      "│ null_count ┆ 0           ┆ 0          ┆ 0          ┆ 0          │\n",
      "│ mean       ┆ null        ┆ null       ┆ null       ┆ null       │\n",
      "│ std        ┆ null        ┆ null       ┆ null       ┆ null       │\n",
      "│ min        ┆ P001        ┆ Producto_1 ┆ Accesorios ┆ DeportesYA │\n",
      "│ 25%        ┆ null        ┆ null       ┆ null       ┆ null       │\n",
      "│ 50%        ┆ null        ┆ null       ┆ null       ┆ null       │\n",
      "│ 75%        ┆ null        ┆ null       ┆ null       ┆ null       │\n",
      "│ max        ┆ P020        ┆ Producto_9 ┆ Ropa       ┆ TextilSur  │\n",
      "└────────────┴─────────────┴────────────┴────────────┴────────────┘\n",
      "['id_producto', 'nombre', 'categoría', 'proveedor']\n",
      "Schema([('id_producto', String), ('nombre', String), ('categoría', String), ('proveedor', String)])\n"
     ]
    }
   ],
   "source": [
    "# Información básica\n",
    "print(df.describe())\n",
    "\n",
    "# Columnas\n",
    "print(df.columns)\n",
    "\n",
    "# Ver tipos de datos\n",
    "print(df.schema)\n"
   ]
  }
 ],
 "metadata": {
  "kernelspec": {
   "display_name": "venv-etl",
   "language": "python",
   "name": "python3"
  },
  "language_info": {
   "codemirror_mode": {
    "name": "ipython",
    "version": 3
   },
   "file_extension": ".py",
   "mimetype": "text/x-python",
   "name": "python",
   "nbconvert_exporter": "python",
   "pygments_lexer": "ipython3",
   "version": "3.10.12"
  }
 },
 "nbformat": 4,
 "nbformat_minor": 5
}
